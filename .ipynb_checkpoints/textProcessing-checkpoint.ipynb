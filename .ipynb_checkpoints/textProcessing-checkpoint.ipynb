{
 "cells": [
  {
   "cell_type": "code",
   "execution_count": 1,
   "metadata": {},
   "outputs": [
    {
     "name": "stdout",
     "output_type": "stream",
     "text": [
      "Hieroglyphic writing dates from c. 3000 BC, and is composed of hundreds of symbols. A hieroglyph can represent a word, a sound, or a silent determinative; and the same symbol can serve different purposes in different contexts. Hieroglyphs were a formal script, used on stone monuments and in tombs, that could be as detailed as individual works of art.\n",
      "\n"
     ]
    }
   ],
   "source": [
    "# Capturing Text Data\n",
    "# Plain Text\n",
    "\n",
    "import os\n",
    "\n",
    "# Read in a plain text file\n",
    "with open(os.path.join(\"data\", \"hieroglyph.txt\"), 'r') as f:\n",
    "    text = f.read()\n",
    "    print(text)"
   ]
  },
  {
   "cell_type": "code",
   "execution_count": 2,
   "metadata": {},
   "outputs": [
    {
     "data": {
      "text/html": [
       "<div>\n",
       "<style scoped>\n",
       "    .dataframe tbody tr th:only-of-type {\n",
       "        vertical-align: middle;\n",
       "    }\n",
       "\n",
       "    .dataframe tbody tr th {\n",
       "        vertical-align: top;\n",
       "    }\n",
       "\n",
       "    .dataframe thead th {\n",
       "        text-align: right;\n",
       "    }\n",
       "</style>\n",
       "<table border=\"1\" class=\"dataframe\">\n",
       "  <thead>\n",
       "    <tr style=\"text-align: right;\">\n",
       "      <th></th>\n",
       "      <th>publisher</th>\n",
       "      <th>title</th>\n",
       "    </tr>\n",
       "  </thead>\n",
       "  <tbody>\n",
       "    <tr>\n",
       "      <th>0</th>\n",
       "      <td>Livemint</td>\n",
       "      <td>Fed's Charles Plosser sees high bar for change...</td>\n",
       "    </tr>\n",
       "    <tr>\n",
       "      <th>1</th>\n",
       "      <td>IFA Magazine</td>\n",
       "      <td>US open: Stocks fall after Fed official hints ...</td>\n",
       "    </tr>\n",
       "    <tr>\n",
       "      <th>2</th>\n",
       "      <td>IFA Magazine</td>\n",
       "      <td>Fed risks falling 'behind the curve', Charles ...</td>\n",
       "    </tr>\n",
       "    <tr>\n",
       "      <th>3</th>\n",
       "      <td>Moneynews</td>\n",
       "      <td>Fed's Plosser: Nasty Weather Has Curbed Job Gr...</td>\n",
       "    </tr>\n",
       "    <tr>\n",
       "      <th>4</th>\n",
       "      <td>NASDAQ</td>\n",
       "      <td>Plosser: Fed May Have to Accelerate Tapering Pace</td>\n",
       "    </tr>\n",
       "  </tbody>\n",
       "</table>\n",
       "</div>"
      ],
      "text/plain": [
       "      publisher                                              title\n",
       "0      Livemint  Fed's Charles Plosser sees high bar for change...\n",
       "1  IFA Magazine  US open: Stocks fall after Fed official hints ...\n",
       "2  IFA Magazine  Fed risks falling 'behind the curve', Charles ...\n",
       "3     Moneynews  Fed's Plosser: Nasty Weather Has Curbed Job Gr...\n",
       "4        NASDAQ  Plosser: Fed May Have to Accelerate Tapering Pace"
      ]
     },
     "execution_count": 2,
     "metadata": {},
     "output_type": "execute_result"
    }
   ],
   "source": [
    "# Tabular Data\n",
    "# Extract text column from a dataframe\n",
    "\n",
    "import pandas as pd\n",
    "\n",
    "df = pd.read_csv(os.path.join('Data','news.csv'))\n",
    "df.head()[['publisher','title']]\n"
   ]
  },
  {
   "cell_type": "code",
   "execution_count": 3,
   "metadata": {},
   "outputs": [
    {
     "data": {
      "text/html": [
       "<div>\n",
       "<style scoped>\n",
       "    .dataframe tbody tr th:only-of-type {\n",
       "        vertical-align: middle;\n",
       "    }\n",
       "\n",
       "    .dataframe tbody tr th {\n",
       "        vertical-align: top;\n",
       "    }\n",
       "\n",
       "    .dataframe thead th {\n",
       "        text-align: right;\n",
       "    }\n",
       "</style>\n",
       "<table border=\"1\" class=\"dataframe\">\n",
       "  <thead>\n",
       "    <tr style=\"text-align: right;\">\n",
       "      <th></th>\n",
       "      <th>title</th>\n",
       "      <th>publisher</th>\n",
       "    </tr>\n",
       "  </thead>\n",
       "  <tbody>\n",
       "    <tr>\n",
       "      <th>0</th>\n",
       "      <td>fed's charles plosser sees high bar for change...</td>\n",
       "      <td>Livemint</td>\n",
       "    </tr>\n",
       "    <tr>\n",
       "      <th>1</th>\n",
       "      <td>us open: stocks fall after fed official hints ...</td>\n",
       "      <td>IFA Magazine</td>\n",
       "    </tr>\n",
       "    <tr>\n",
       "      <th>2</th>\n",
       "      <td>fed risks falling 'behind the curve', charles ...</td>\n",
       "      <td>IFA Magazine</td>\n",
       "    </tr>\n",
       "    <tr>\n",
       "      <th>3</th>\n",
       "      <td>fed's plosser: nasty weather has curbed job gr...</td>\n",
       "      <td>Moneynews</td>\n",
       "    </tr>\n",
       "    <tr>\n",
       "      <th>4</th>\n",
       "      <td>plosser: fed may have to accelerate tapering pace</td>\n",
       "      <td>NASDAQ</td>\n",
       "    </tr>\n",
       "  </tbody>\n",
       "</table>\n",
       "</div>"
      ],
      "text/plain": [
       "                                               title     publisher\n",
       "0  fed's charles plosser sees high bar for change...      Livemint\n",
       "1  us open: stocks fall after fed official hints ...  IFA Magazine\n",
       "2  fed risks falling 'behind the curve', charles ...  IFA Magazine\n",
       "3  fed's plosser: nasty weather has curbed job gr...     Moneynews\n",
       "4  plosser: fed may have to accelerate tapering pace        NASDAQ"
      ]
     },
     "execution_count": 3,
     "metadata": {},
     "output_type": "execute_result"
    }
   ],
   "source": [
    "# Convert text column to lowercase\n",
    "\n",
    "df['title'] = df['title'].str.lower()\n",
    "df.head()[['title','publisher']]"
   ]
  },
  {
   "cell_type": "code",
   "execution_count": 4,
   "metadata": {},
   "outputs": [
    {
     "name": "stdout",
     "output_type": "stream",
     "text": [
      "{\n",
      "    \"success\": {\n",
      "        \"total\": 1\n",
      "    },\n",
      "    \"contents\": {\n",
      "        \"quotes\": [\n",
      "            {\n",
      "                \"quote\": \"Think ahead. Don't let day-to-day operations drive out planning.\",\n",
      "                \"length\": \"64\",\n",
      "                \"author\": \"Donald Rumsfeld\",\n",
      "                \"tags\": [\n",
      "                    \"inspire\",\n",
      "                    \"planning\",\n",
      "                    \"time-management\"\n",
      "                ],\n",
      "                \"category\": \"inspire\",\n",
      "                \"language\": \"en\",\n",
      "                \"date\": \"2021-01-22\",\n",
      "                \"permalink\": \"https://theysaidso.com/quote/donald-rumsfeld-think-ahead-dont-let-day-to-day-operations-drive-out-planning\",\n",
      "                \"id\": \"KBvgCo8_w5IEf7fBSFVFjgeF\",\n",
      "                \"background\": \"https://theysaidso.com/img/qod/qod-inspire.jpg\",\n",
      "                \"title\": \"Inspiring Quote of the day\"\n",
      "            }\n",
      "        ]\n",
      "    },\n",
      "    \"baseurl\": \"https://theysaidso.com\",\n",
      "    \"copyright\": {\n",
      "        \"year\": 2023,\n",
      "        \"url\": \"https://theysaidso.com\"\n",
      "    }\n",
      "}\n"
     ]
    }
   ],
   "source": [
    "# Online Resource\n",
    "# Fetch data from a REST API\n",
    "import requests\n",
    "import json\n",
    "\n",
    "# Fetch data from a REST API\n",
    "r = requests.get(\"https://quotes.rest/qod.json\")\n",
    "res = r.json()\n",
    "print(json.dumps(res, indent=4))"
   ]
  },
  {
   "cell_type": "code",
   "execution_count": 5,
   "metadata": {},
   "outputs": [
    {
     "name": "stdout",
     "output_type": "stream",
     "text": [
      "Think ahead. Don't let day-to-day operations drive out planning. \n",
      "-- Donald Rumsfeld\n"
     ]
    }
   ],
   "source": [
    "# Extract relevant object and field\n",
    "q = res['contents']['quotes'][0]\n",
    "print(q['quote'],'\\n--',q['author'])"
   ]
  },
  {
   "cell_type": "code",
   "execution_count": 6,
   "metadata": {
    "collapsed": true,
    "jupyter": {
     "outputs_hidden": true
    }
   },
   "outputs": [
    {
     "name": "stdout",
     "output_type": "stream",
     "text": [
      "<html lang=\"en\" op=\"news\"><head><meta name=\"referrer\" content=\"origin\"><meta name=\"viewport\" content=\"width=device-width, initial-scale=1.0\"><link rel=\"stylesheet\" type=\"text/css\" href=\"news.css?U9IPZKYheFex0oNnJZBm\">\n",
      "        <link rel=\"shortcut icon\" href=\"favicon.ico\">\n",
      "          <link rel=\"alternate\" type=\"application/rss+xml\" title=\"RSS\" href=\"rss\">\n",
      "        <title>Hacker News</title></head><body><center><table id=\"hnmain\" border=\"0\" cellpadding=\"0\" cellspacing=\"0\" width=\"85%\" bgcolor=\"#f6f6ef\">\n",
      "        <tr><td bgcolor=\"#ff6600\"><table border=\"0\" cellpadding=\"0\" cellspacing=\"0\" width=\"100%\" style=\"padding:2px\"><tr><td style=\"width:18px;padding-right:4px\"><a href=\"https://news.ycombinator.com\"><img src=\"y18.gif\" width=\"18\" height=\"18\" style=\"border:1px white solid;\"></a></td>\n",
      "                  <td style=\"line-height:12pt; height:10px;\"><span class=\"pagetop\"><b class=\"hnname\"><a href=\"news\">Hacker News</a></b>\n",
      "              <a href=\"newest\">new</a> | <a href=\"front\">past</a> | <a href=\"newcomments\">comments</a> | <a href=\"ask\">ask</a> | <a href=\"show\">show</a> | <a href=\"jobs\">jobs</a> | <a href=\"submit\">submit</a>            </span></td><td style=\"text-align:right;padding-right:4px;\"><span class=\"pagetop\">\n",
      "                              <a href=\"login?goto=news\">login</a>\n",
      "                          </span></td>\n",
      "              </tr></table></td></tr>\n",
      "<tr id=\"pagespace\" title=\"\" style=\"height:10px\"></tr><tr><td><table border=\"0\" cellpadding=\"0\" cellspacing=\"0\" class=\"itemlist\">\n",
      "              <tr class='athing' id='25865094'>\n",
      "      <td align=\"right\" valign=\"top\" class=\"title\"><span class=\"rank\">1.</span></td>      <td valign=\"top\" class=\"votelinks\"><center><a id='up_25865094' href='vote?id=25865094&amp;how=up&amp;goto=news'><div class='votearrow' title='upvote'></div></a></center></td><td class=\"title\"><a href=\"https://aws.amazon.com/blogs/opensource/stepping-up-for-a-truly-open-source-elasticsearch\" class=\"storylink\">AWS announces forks of Elasticsearch and Kibana</a><span class=\"sitebit comhead\"> (<a href=\"from?site=amazon.com\"><span class=\"sitestr\">amazon.com</span></a>)</span></td></tr><tr><td colspan=\"2\"></td><td class=\"subtext\">\n",
      "        <span class=\"score\" id=\"score_25865094\">1041 points</span> by <a href=\"user?id=ke4qqq\" class=\"hnuser\">ke4qqq</a> <span class=\"age\"><a href=\"item?id=25865094\">13 hours ago</a></span> <span id=\"unv_25865094\"></span> | <a href=\"hide?id=25865094&amp;goto=news\">hide</a> | <a href=\"item?id=25865094\">752&nbsp;comments</a>              </td></tr>\n",
      "      <tr class=\"spacer\" style=\"height:5px\"></tr>\n",
      "                <tr class='athing' id='25869798'>\n",
      "      <td align=\"right\" valign=\"top\" class=\"title\"><span class=\"rank\">2.</span></td>      <td valign=\"top\" class=\"votelinks\"><center><a id='up_25869798' href='vote?id=25869798&amp;how=up&amp;goto=news'><div class='votearrow' title='upvote'></div></a></center></td><td class=\"title\"><a href=\"https://owncloud.com/infinite-scale/\" class=\"storylink\">Complete rewrite of ownCloud to move away from LAMP</a><span class=\"sitebit comhead\"> (<a href=\"from?site=owncloud.com\"><span class=\"sitestr\">owncloud.com</span></a>)</span></td></tr><tr><td colspan=\"2\"></td><td class=\"subtext\">\n",
      "        <span class=\"score\" id=\"score_25869798\">79 points</span> by <a href=\"user?id=veddox\" class=\"hnuser\">veddox</a> <span class=\"age\"><a href=\"item?id=25869798\">2 hours ago</a></span> <span id=\"unv_25869798\"></span> | <a href=\"hide?id=25869798&amp;goto=news\">hide</a> | <a href=\"item?id=25869798\">59&nbsp;comments</a>              </td></tr>\n",
      "      <tr class=\"spacer\" style=\"height:5px\"></tr>\n",
      "                <tr class='athing' id='25870482'>\n",
      "      <td align=\"right\" valign=\"top\" class=\"title\"><span class=\"rank\">3.</span></td>      <td valign=\"top\" class=\"votelinks\"><center><a id='up_25870482' href='vote?id=25870482&amp;how=up&amp;goto=news'><div class='votearrow' title='upvote'></div></a></center></td><td class=\"title\"><a href=\"https://github.com/anthonynsimon/timeflake\" class=\"storylink\" rel=\"nofollow\">Show HN: 128-bit, roughly-ordered, URL-safe UUIDs</a><span class=\"sitebit comhead\"> (<a href=\"from?site=github.com/anthonynsimon\"><span class=\"sitestr\">github.com/anthonynsimon</span></a>)</span></td></tr><tr><td colspan=\"2\"></td><td class=\"subtext\">\n",
      "        <span class=\"score\" id=\"score_25870482\">10 points</span> by <a href=\"user?id=amzans\" class=\"hnuser\">amzans</a> <span class=\"age\"><a href=\"item?id=25870482\">43 minutes ago</a></span> <span id=\"unv_25870482\"></span> | <a href=\"hide?id=25870482&amp;goto=news\">hide</a> | <a href=\"item?id=25870482\">1&nbsp;comment</a>              </td></tr>\n",
      "      <tr class=\"spacer\" style=\"height:5px\"></tr>\n",
      "                <tr class='athing' id='25870571'>\n",
      "      <td align=\"right\" valign=\"top\" class=\"title\"><span class=\"rank\">4.</span></td>      <td valign=\"top\" class=\"votelinks\"><center><a id='up_25870571' href='vote?id=25870571&amp;how=up&amp;goto=news'><div class='votearrow' title='upvote'></div></a></center></td><td class=\"title\"><a href=\"https://hn.algolia.com/?dateRange=all&amp;page=0&amp;prefix=true&amp;query=Google%20Australia&amp;sort=byDate&amp;type=story\" class=\"storylink\" rel=\"nofollow\">The spat between Google and Australia, as reported on HN</a><span class=\"sitebit comhead\"> (<a href=\"from?site=algolia.com\"><span class=\"sitestr\">algolia.com</span></a>)</span></td></tr><tr><td colspan=\"2\"></td><td class=\"subtext\">\n",
      "        <span class=\"score\" id=\"score_25870571\">9 points</span> by <a href=\"user?id=ColinWright\" class=\"hnuser\">ColinWright</a> <span class=\"age\"><a href=\"item?id=25870571\">28 minutes ago</a></span> <span id=\"unv_25870571\"></span> | <a href=\"hide?id=25870571&amp;goto=news\">hide</a> | <a href=\"item?id=25870571\">4&nbsp;comments</a>              </td></tr>\n",
      "      <tr class=\"spacer\" style=\"height:5px\"></tr>\n",
      "                <tr class='athing' id='25868970'>\n",
      "      <td align=\"right\" valign=\"top\" class=\"title\"><span class=\"rank\">5.</span></td>      <td valign=\"top\" class=\"votelinks\"><center><a id='up_25868970' href='vote?id=25868970&amp;how=up&amp;goto=news'><div class='votearrow' title='upvote'></div></a></center></td><td class=\"title\"><a href=\"https://gitnews.tech\" class=\"storylink\">Show HN: Git News – Social News website for developers and GitHub fans</a><span class=\"sitebit comhead\"> (<a href=\"from?site=gitnews.tech\"><span class=\"sitestr\">gitnews.tech</span></a>)</span></td></tr><tr><td colspan=\"2\"></td><td class=\"subtext\">\n",
      "        <span class=\"score\" id=\"score_25868970\">61 points</span> by <a href=\"user?id=nimit95\" class=\"hnuser\">nimit95</a> <span class=\"age\"><a href=\"item?id=25868970\">5 hours ago</a></span> <span id=\"unv_25868970\"></span> | <a href=\"hide?id=25868970&amp;goto=news\">hide</a> | <a href=\"item?id=25868970\">26&nbsp;comments</a>              </td></tr>\n",
      "      <tr class=\"spacer\" style=\"height:5px\"></tr>\n",
      "                <tr class='athing' id='25864078'>\n",
      "      <td align=\"right\" valign=\"top\" class=\"title\"><span class=\"rank\">6.</span></td>      <td valign=\"top\" class=\"votelinks\"><center><a id='up_25864078' href='vote?id=25864078&amp;how=up&amp;goto=news'><div class='votearrow' title='upvote'></div></a></center></td><td class=\"title\"><a href=\"https://www.newdelorean.com/nhtsa-releases-final-low-volume-manufacturing-rules/\" class=\"storylink\">DeLorean considering all-electric reboot</a><span class=\"sitebit comhead\"> (<a href=\"from?site=newdelorean.com\"><span class=\"sitestr\">newdelorean.com</span></a>)</span></td></tr><tr><td colspan=\"2\"></td><td class=\"subtext\">\n",
      "        <span class=\"score\" id=\"score_25864078\">375 points</span> by <a href=\"user?id=evo_9\" class=\"hnuser\">evo_9</a> <span class=\"age\"><a href=\"item?id=25864078\">14 hours ago</a></span> <span id=\"unv_25864078\"></span> | <a href=\"hide?id=25864078&amp;goto=news\">hide</a> | <a href=\"item?id=25864078\">230&nbsp;comments</a>              </td></tr>\n",
      "      <tr class=\"spacer\" style=\"height:5px\"></tr>\n",
      "                <tr class='athing' id='25868742'>\n",
      "      <td align=\"right\" valign=\"top\" class=\"title\"><span class=\"rank\">7.</span></td>      <td valign=\"top\" class=\"votelinks\"><center><a id='up_25868742' href='vote?id=25868742&amp;how=up&amp;goto=news'><div class='votearrow' title='upvote'></div></a></center></td><td class=\"title\"><a href=\"https://www.cs.uic.edu/~polakis/papers/solomos-ndss21.pdf\" class=\"storylink\">Tales of Favicons and Caches: Persistent Tracking in Modern Browsers [pdf]</a><span class=\"sitebit comhead\"> (<a href=\"from?site=uic.edu\"><span class=\"sitestr\">uic.edu</span></a>)</span></td></tr><tr><td colspan=\"2\"></td><td class=\"subtext\">\n",
      "        <span class=\"score\" id=\"score_25868742\">81 points</span> by <a href=\"user?id=amenghra\" class=\"hnuser\">amenghra</a> <span class=\"age\"><a href=\"item?id=25868742\">5 hours ago</a></span> <span id=\"unv_25868742\"></span> | <a href=\"hide?id=25868742&amp;goto=news\">hide</a> | <a href=\"item?id=25868742\">18&nbsp;comments</a>              </td></tr>\n",
      "      <tr class=\"spacer\" style=\"height:5px\"></tr>\n",
      "                <tr class='athing' id='25869864'>\n",
      "      <td align=\"right\" valign=\"top\" class=\"title\"><span class=\"rank\">8.</span></td>      <td valign=\"top\" class=\"votelinks\"><center><a id='up_25869864' href='vote?id=25869864&amp;how=up&amp;goto=news'><div class='votearrow' title='upvote'></div></a></center></td><td class=\"title\"><a href=\"https://www.getwelder.com/\" class=\"storylink\">Show HN: Welder – Record high-quality remote interviews</a><span class=\"sitebit comhead\"> (<a href=\"from?site=getwelder.com\"><span class=\"sitestr\">getwelder.com</span></a>)</span></td></tr><tr><td colspan=\"2\"></td><td class=\"subtext\">\n",
      "        <span class=\"score\" id=\"score_25869864\">21 points</span> by <a href=\"user?id=JohanCutych\" class=\"hnuser\">JohanCutych</a> <span class=\"age\"><a href=\"item?id=25869864\">2 hours ago</a></span> <span id=\"unv_25869864\"></span> | <a href=\"hide?id=25869864&amp;goto=news\">hide</a> | <a href=\"item?id=25869864\">13&nbsp;comments</a>              </td></tr>\n",
      "      <tr class=\"spacer\" style=\"height:5px\"></tr>\n",
      "                <tr class='athing' id='25844686'>\n",
      "      <td align=\"right\" valign=\"top\" class=\"title\"><span class=\"rank\">9.</span></td>      <td valign=\"top\" class=\"votelinks\"><center><a id='up_25844686' href='vote?id=25844686&amp;how=up&amp;goto=news'><div class='votearrow' title='upvote'></div></a></center></td><td class=\"title\"><a href=\"https://relaycomputer.co.uk/pages/overview.html\" class=\"storylink\">Constructing an 8-bit relay computer from scratch</a><span class=\"sitebit comhead\"> (<a href=\"from?site=relaycomputer.co.uk\"><span class=\"sitestr\">relaycomputer.co.uk</span></a>)</span></td></tr><tr><td colspan=\"2\"></td><td class=\"subtext\">\n",
      "        <span class=\"score\" id=\"score_25844686\">29 points</span> by <a href=\"user?id=hggh\" class=\"hnuser\">hggh</a> <span class=\"age\"><a href=\"item?id=25844686\">3 hours ago</a></span> <span id=\"unv_25844686\"></span> | <a href=\"hide?id=25844686&amp;goto=news\">hide</a> | <a href=\"item?id=25844686\">3&nbsp;comments</a>              </td></tr>\n",
      "      <tr class=\"spacer\" style=\"height:5px\"></tr>\n",
      "                <tr class='athing' id='25870133'>\n",
      "      <td align=\"right\" valign=\"top\" class=\"title\"><span class=\"rank\">10.</span></td>      <td valign=\"top\" class=\"votelinks\"><center><a id='up_25870133' href='vote?id=25870133&amp;how=up&amp;goto=news'><div class='votearrow' title='upvote'></div></a></center></td><td class=\"title\"><a href=\"https://cqi.inf.usi.ch/publications/telegram_vs_signal.pdf\" class=\"storylink\">The Secure Messaging App Conundrum: Signal vs. Telegram (A Comparisson for Non [pdf]</a><span class=\"sitebit comhead\"> (<a href=\"from?site=usi.ch\"><span class=\"sitestr\">usi.ch</span></a>)</span></td></tr><tr><td colspan=\"2\"></td><td class=\"subtext\">\n",
      "        <span class=\"score\" id=\"score_25870133\">22 points</span> by <a href=\"user?id=todsacerdoti\" class=\"hnuser\">todsacerdoti</a> <span class=\"age\"><a href=\"item?id=25870133\">1 hour ago</a></span> <span id=\"unv_25870133\"></span> | <a href=\"hide?id=25870133&amp;goto=news\">hide</a> | <a href=\"item?id=25870133\">13&nbsp;comments</a>              </td></tr>\n",
      "      <tr class=\"spacer\" style=\"height:5px\"></tr>\n",
      "                <tr class='athing' id='25869918'>\n",
      "      <td align=\"right\" valign=\"top\" class=\"title\"><span class=\"rank\">11.</span></td>      <td valign=\"top\" class=\"votelinks\"><center><a id='up_25869918' href='vote?id=25869918&amp;how=up&amp;goto=news'><div class='votearrow' title='upvote'></div></a></center></td><td class=\"title\"><a href=\"https://www.theregister.com/2021/01/21/android_riscv_port/\" class=\"storylink\">Android Ported to RISC-V</a><span class=\"sitebit comhead\"> (<a href=\"from?site=theregister.com\"><span class=\"sitestr\">theregister.com</span></a>)</span></td></tr><tr><td colspan=\"2\"></td><td class=\"subtext\">\n",
      "        <span class=\"score\" id=\"score_25869918\">46 points</span> by <a href=\"user?id=phkahler\" class=\"hnuser\">phkahler</a> <span class=\"age\"><a href=\"item?id=25869918\">2 hours ago</a></span> <span id=\"unv_25869918\"></span> | <a href=\"hide?id=25869918&amp;goto=news\">hide</a> | <a href=\"item?id=25869918\">4&nbsp;comments</a>              </td></tr>\n",
      "      <tr class=\"spacer\" style=\"height:5px\"></tr>\n",
      "                <tr class='athing' id='25856558'>\n",
      "      <td align=\"right\" valign=\"top\" class=\"title\"><span class=\"rank\">12.</span></td>      <td valign=\"top\" class=\"votelinks\"><center><a id='up_25856558' href='vote?id=25856558&amp;how=up&amp;goto=news'><div class='votearrow' title='upvote'></div></a></center></td><td class=\"title\"><a href=\"https://yurichev.com/news/20210121_Knuth_Morris_Pratt_3/\" class=\"storylink\">Knuth-Morris-Pratt string-searching algorithm: DFA-less version</a><span class=\"sitebit comhead\"> (<a href=\"from?site=yurichev.com\"><span class=\"sitestr\">yurichev.com</span></a>)</span></td></tr><tr><td colspan=\"2\"></td><td class=\"subtext\">\n",
      "        <span class=\"score\" id=\"score_25856558\">9 points</span> by <a href=\"user?id=ingve\" class=\"hnuser\">ingve</a> <span class=\"age\"><a href=\"item?id=25856558\">2 hours ago</a></span> <span id=\"unv_25856558\"></span> | <a href=\"hide?id=25856558&amp;goto=news\">hide</a> | <a href=\"item?id=25856558\">1&nbsp;comment</a>              </td></tr>\n",
      "      <tr class=\"spacer\" style=\"height:5px\"></tr>\n",
      "                <tr class='athing' id='25844910'>\n",
      "      <td align=\"right\" valign=\"top\" class=\"title\"><span class=\"rank\">13.</span></td>      <td valign=\"top\" class=\"votelinks\"><center><a id='up_25844910' href='vote?id=25844910&amp;how=up&amp;goto=news'><div class='votearrow' title='upvote'></div></a></center></td><td class=\"title\"><a href=\"https://leahneukirchen.org/blog/archive/2021/01/remembering-the-work-of-david-m-tilbrook-and-the-qed-editor.html\" class=\"storylink\">Remembering the work of David M. Tilbrook and the QED editor</a><span class=\"sitebit comhead\"> (<a href=\"from?site=leahneukirchen.org\"><span class=\"sitestr\">leahneukirchen.org</span></a>)</span></td></tr><tr><td colspan=\"2\"></td><td class=\"subtext\">\n",
      "        <span class=\"score\" id=\"score_25844910\">12 points</span> by <a href=\"user?id=todsacerdoti\" class=\"hnuser\">todsacerdoti</a> <span class=\"age\"><a href=\"item?id=25844910\">4 hours ago</a></span> <span id=\"unv_25844910\"></span> | <a href=\"hide?id=25844910&amp;goto=news\">hide</a> | <a href=\"item?id=25844910\">discuss</a>              </td></tr>\n",
      "      <tr class=\"spacer\" style=\"height:5px\"></tr>\n",
      "                <tr class='athing' id='25867693'>\n",
      "      <td align=\"right\" valign=\"top\" class=\"title\"><span class=\"rank\">14.</span></td>      <td valign=\"top\" class=\"votelinks\"><center><a id='up_25867693' href='vote?id=25867693&amp;how=up&amp;goto=news'><div class='votearrow' title='upvote'></div></a></center></td><td class=\"title\"><a href=\"https://scattered-thoughts.net/writing/why-isnt-differential-dataflow-more-popular/\" class=\"storylink\">Why isn't differential dataflow more popular?</a><span class=\"sitebit comhead\"> (<a href=\"from?site=scattered-thoughts.net\"><span class=\"sitestr\">scattered-thoughts.net</span></a>)</span></td></tr><tr><td colspan=\"2\"></td><td class=\"subtext\">\n",
      "        <span class=\"score\" id=\"score_25867693\">103 points</span> by <a href=\"user?id=jamii\" class=\"hnuser\">jamii</a> <span class=\"age\"><a href=\"item?id=25867693\">8 hours ago</a></span> <span id=\"unv_25867693\"></span> | <a href=\"hide?id=25867693&amp;goto=news\">hide</a> | <a href=\"item?id=25867693\">38&nbsp;comments</a>              </td></tr>\n",
      "      <tr class=\"spacer\" style=\"height:5px\"></tr>\n",
      "                <tr class='athing' id='25860819'>\n",
      "      <td align=\"right\" valign=\"top\" class=\"title\"><span class=\"rank\">15.</span></td>      <td valign=\"top\" class=\"votelinks\"><center><a id='up_25860819' href='vote?id=25860819&amp;how=up&amp;goto=news'><div class='votearrow' title='upvote'></div></a></center></td><td class=\"title\"><a href=\"item?id=25860819\" class=\"storylink\">Launch HN: Finmark (YC S20) – Financial planning software for startups</a></td></tr><tr><td colspan=\"2\"></td><td class=\"subtext\">\n",
      "        <span class=\"score\" id=\"score_25860819\">149 points</span> by <a href=\"user?id=ramie\" class=\"hnuser\">ramie</a> <span class=\"age\"><a href=\"item?id=25860819\">16 hours ago</a></span> <span id=\"unv_25860819\"></span> | <a href=\"hide?id=25860819&amp;goto=news\">hide</a> | <a href=\"item?id=25860819\">57&nbsp;comments</a>              </td></tr>\n",
      "      <tr class=\"spacer\" style=\"height:5px\"></tr>\n",
      "                <tr class='athing' id='25865062'>\n",
      "      <td align=\"right\" valign=\"top\" class=\"title\"><span class=\"rank\">16.</span></td>      <td valign=\"top\" class=\"votelinks\"><center><a id='up_25865062' href='vote?id=25865062&amp;how=up&amp;goto=news'><div class='votearrow' title='upvote'></div></a></center></td><td class=\"title\"><a href=\"https://astralcodexten.substack.com/p/still-alive\" class=\"storylink\">Still alive</a><span class=\"sitebit comhead\"> (<a href=\"from?site=astralcodexten.substack.com\"><span class=\"sitestr\">astralcodexten.substack.com</span></a>)</span></td></tr><tr><td colspan=\"2\"></td><td class=\"subtext\">\n",
      "        <span class=\"score\" id=\"score_25865062\">718 points</span> by <a href=\"user?id=Lewton\" class=\"hnuser\">Lewton</a> <span class=\"age\"><a href=\"item?id=25865062\">13 hours ago</a></span> <span id=\"unv_25865062\"></span> | <a href=\"hide?id=25865062&amp;goto=news\">hide</a> | <a href=\"item?id=25865062\">233&nbsp;comments</a>              </td></tr>\n",
      "      <tr class=\"spacer\" style=\"height:5px\"></tr>\n",
      "                <tr class='athing' id='25868713'>\n",
      "      <td align=\"right\" valign=\"top\" class=\"title\"><span class=\"rank\">17.</span></td>      <td valign=\"top\" class=\"votelinks\"><center><a id='up_25868713' href='vote?id=25868713&amp;how=up&amp;goto=news'><div class='votearrow' title='upvote'></div></a></center></td><td class=\"title\"><a href=\"https://blog.x.company/loons-final-flight-e9d699123a96?gi=b913b3d1667e\" class=\"storylink\">Loon’s final flight</a><span class=\"sitebit comhead\"> (<a href=\"from?site=x.company\"><span class=\"sitestr\">x.company</span></a>)</span></td></tr><tr><td colspan=\"2\"></td><td class=\"subtext\">\n",
      "        <span class=\"score\" id=\"score_25868713\">225 points</span> by <a href=\"user?id=sarthakjshetty\" class=\"hnuser\">sarthakjshetty</a> <span class=\"age\"><a href=\"item?id=25868713\">5 hours ago</a></span> <span id=\"unv_25868713\"></span> | <a href=\"hide?id=25868713&amp;goto=news\">hide</a> | <a href=\"item?id=25868713\">178&nbsp;comments</a>              </td></tr>\n",
      "      <tr class=\"spacer\" style=\"height:5px\"></tr>\n",
      "                <tr class='athing' id='25868644'>\n",
      "      <td align=\"right\" valign=\"top\" class=\"title\"><span class=\"rank\">18.</span></td>      <td valign=\"top\" class=\"votelinks\"><center><a id='up_25868644' href='vote?id=25868644&amp;how=up&amp;goto=news'><div class='votearrow' title='upvote'></div></a></center></td><td class=\"title\"><a href=\"http://xerces.org/blog/monarch-population-in-california-spirals-to-another-record-low\" class=\"storylink\">Monarch butterfly population in California spirals to another record low</a><span class=\"sitebit comhead\"> (<a href=\"from?site=xerces.org\"><span class=\"sitestr\">xerces.org</span></a>)</span></td></tr><tr><td colspan=\"2\"></td><td class=\"subtext\">\n",
      "        <span class=\"score\" id=\"score_25868644\">121 points</span> by <a href=\"user?id=prostoalex\" class=\"hnuser\">prostoalex</a> <span class=\"age\"><a href=\"item?id=25868644\">6 hours ago</a></span> <span id=\"unv_25868644\"></span> | <a href=\"hide?id=25868644&amp;goto=news\">hide</a> | <a href=\"item?id=25868644\">28&nbsp;comments</a>              </td></tr>\n",
      "      <tr class=\"spacer\" style=\"height:5px\"></tr>\n",
      "                <tr class='athing' id='25858750'>\n",
      "      <td align=\"right\" valign=\"top\" class=\"title\"><span class=\"rank\">19.</span></td>      <td valign=\"top\" class=\"votelinks\"><center><a id='up_25858750' href='vote?id=25858750&amp;how=up&amp;goto=news'><div class='votearrow' title='upvote'></div></a></center></td><td class=\"title\"><a href=\"https://www.anandtech.com/show/16438/new-intel-ceo-making-waves-rehiring-retired-cpu-architects\" class=\"storylink\">New Intel CEO rehiring retired CPU architects</a><span class=\"sitebit comhead\"> (<a href=\"from?site=anandtech.com\"><span class=\"sitestr\">anandtech.com</span></a>)</span></td></tr><tr><td colspan=\"2\"></td><td class=\"subtext\">\n",
      "        <span class=\"score\" id=\"score_25858750\">647 points</span> by <a href=\"user?id=rbanffy\" class=\"hnuser\">rbanffy</a> <span class=\"age\"><a href=\"item?id=25858750\">21 hours ago</a></span> <span id=\"unv_25858750\"></span> | <a href=\"hide?id=25858750&amp;goto=news\">hide</a> | <a href=\"item?id=25858750\">423&nbsp;comments</a>              </td></tr>\n",
      "      <tr class=\"spacer\" style=\"height:5px\"></tr>\n",
      "                <tr class='athing' id='25862281'>\n",
      "      <td align=\"right\" valign=\"top\" class=\"title\"><span class=\"rank\">20.</span></td>      <td valign=\"top\" class=\"votelinks\"><center><a id='up_25862281' href='vote?id=25862281&amp;how=up&amp;goto=news'><div class='votearrow' title='upvote'></div></a></center></td><td class=\"title\"><a href=\"https://tucows.com/retired/\" class=\"storylink\">Retiring Tucows Downloads</a><span class=\"sitebit comhead\"> (<a href=\"from?site=tucows.com\"><span class=\"sitestr\">tucows.com</span></a>)</span></td></tr><tr><td colspan=\"2\"></td><td class=\"subtext\">\n",
      "        <span class=\"score\" id=\"score_25862281\">466 points</span> by <a href=\"user?id=andrewdutton\" class=\"hnuser\">andrewdutton</a> <span class=\"age\"><a href=\"item?id=25862281\">16 hours ago</a></span> <span id=\"unv_25862281\"></span> | <a href=\"hide?id=25862281&amp;goto=news\">hide</a> | <a href=\"item?id=25862281\">182&nbsp;comments</a>              </td></tr>\n",
      "      <tr class=\"spacer\" style=\"height:5px\"></tr>\n",
      "                <tr class='athing' id='25863846'>\n",
      "      <td align=\"right\" valign=\"top\" class=\"title\"><span class=\"rank\">21.</span></td>      <td valign=\"top\" class=\"votelinks\"><center><a id='up_25863846' href='vote?id=25863846&amp;how=up&amp;goto=news'><div class='votearrow' title='upvote'></div></a></center></td><td class=\"title\"><a href=\"https://cyberchris.xyz/posts/awk-and-gnuplot/\" class=\"storylink\">Basic Scripting with Awk and Gnuplot</a><span class=\"sitebit comhead\"> (<a href=\"from?site=cyberchris.xyz\"><span class=\"sitestr\">cyberchris.xyz</span></a>)</span></td></tr><tr><td colspan=\"2\"></td><td class=\"subtext\">\n",
      "        <span class=\"score\" id=\"score_25863846\">86 points</span> by <a href=\"user?id=thevirtuoso1973\" class=\"hnuser\">thevirtuoso1973</a> <span class=\"age\"><a href=\"item?id=25863846\">14 hours ago</a></span> <span id=\"unv_25863846\"></span> | <a href=\"hide?id=25863846&amp;goto=news\">hide</a> | <a href=\"item?id=25863846\">8&nbsp;comments</a>              </td></tr>\n",
      "      <tr class=\"spacer\" style=\"height:5px\"></tr>\n",
      "                <tr class='athing' id='25866914'>\n",
      "      <td align=\"right\" valign=\"top\" class=\"title\"><span class=\"rank\">22.</span></td>      <td></td><td class=\"title\"><a href=\"https://relationshiphero.com/careers?role=coach\" class=\"storylink\" rel=\"nofollow\">Relationship Hero (YC S17) Is Hiring Coaches – Full Time Remote</a><span class=\"sitebit comhead\"> (<a href=\"from?site=relationshiphero.com\"><span class=\"sitestr\">relationshiphero.com</span></a>)</span></td></tr><tr><td colspan=\"2\"></td><td class=\"subtext\">\n",
      "        <span class=\"age\"><a href=\"item?id=25866914\">10 hours ago</a></span> | <a href=\"hide?id=25866914&amp;goto=news\">hide</a>      </td></tr>\n",
      "      <tr class=\"spacer\" style=\"height:5px\"></tr>\n",
      "                <tr class='athing' id='25861422'>\n",
      "      <td align=\"right\" valign=\"top\" class=\"title\"><span class=\"rank\">23.</span></td>      <td valign=\"top\" class=\"votelinks\"><center><a id='up_25861422' href='vote?id=25861422&amp;how=up&amp;goto=news'><div class='votearrow' title='upvote'></div></a></center></td><td class=\"title\"><a href=\"https://letsencrypt.org/2021/01/21/next-gen-database-servers.html\" class=\"storylink\">The database servers powering Let's Encrypt</a><span class=\"sitebit comhead\"> (<a href=\"from?site=letsencrypt.org\"><span class=\"sitestr\">letsencrypt.org</span></a>)</span></td></tr><tr><td colspan=\"2\"></td><td class=\"subtext\">\n",
      "        <span class=\"score\" id=\"score_25861422\">423 points</span> by <a href=\"user?id=jaas\" class=\"hnuser\">jaas</a> <span class=\"age\"><a href=\"item?id=25861422\">18 hours ago</a></span> <span id=\"unv_25861422\"></span> | <a href=\"hide?id=25861422&amp;goto=news\">hide</a> | <a href=\"item?id=25861422\">192&nbsp;comments</a>              </td></tr>\n",
      "      <tr class=\"spacer\" style=\"height:5px\"></tr>\n",
      "                <tr class='athing' id='25863377'>\n",
      "      <td align=\"right\" valign=\"top\" class=\"title\"><span class=\"rank\">24.</span></td>      <td valign=\"top\" class=\"votelinks\"><center><a id='up_25863377' href='vote?id=25863377&amp;how=up&amp;goto=news'><div class='votearrow' title='upvote'></div></a></center></td><td class=\"title\"><a href=\"https://bitwarden.com/help/article/releasenotes/#2021-01-19\" class=\"storylink\">Bitwarden releases “emergency access” feature</a><span class=\"sitebit comhead\"> (<a href=\"from?site=bitwarden.com\"><span class=\"sitestr\">bitwarden.com</span></a>)</span></td></tr><tr><td colspan=\"2\"></td><td class=\"subtext\">\n",
      "        <span class=\"score\" id=\"score_25863377\">333 points</span> by <a href=\"user?id=madsmtm\" class=\"hnuser\">madsmtm</a> <span class=\"age\"><a href=\"item?id=25863377\">15 hours ago</a></span> <span id=\"unv_25863377\"></span> | <a href=\"hide?id=25863377&amp;goto=news\">hide</a> | <a href=\"item?id=25863377\">121&nbsp;comments</a>              </td></tr>\n",
      "      <tr class=\"spacer\" style=\"height:5px\"></tr>\n",
      "                <tr class='athing' id='25857801'>\n",
      "      <td align=\"right\" valign=\"top\" class=\"title\"><span class=\"rank\">25.</span></td>      <td valign=\"top\" class=\"votelinks\"><center><a id='up_25857801' href='vote?id=25857801&amp;how=up&amp;goto=news'><div class='votearrow' title='upvote'></div></a></center></td><td class=\"title\"><a href=\"https://phys.org/news/2021-01-fornax-galaxy-astrosat.html\" class=\"storylink\">Fornax a Galaxy Investigated with AstroSat</a><span class=\"sitebit comhead\"> (<a href=\"from?site=phys.org\"><span class=\"sitestr\">phys.org</span></a>)</span></td></tr><tr><td colspan=\"2\"></td><td class=\"subtext\">\n",
      "        <span class=\"score\" id=\"score_25857801\">12 points</span> by <a href=\"user?id=dnetesn\" class=\"hnuser\">dnetesn</a> <span class=\"age\"><a href=\"item?id=25857801\">5 hours ago</a></span> <span id=\"unv_25857801\"></span> | <a href=\"hide?id=25857801&amp;goto=news\">hide</a> | <a href=\"item?id=25857801\">3&nbsp;comments</a>              </td></tr>\n",
      "      <tr class=\"spacer\" style=\"height:5px\"></tr>\n",
      "                <tr class='athing' id='25863999'>\n",
      "      <td align=\"right\" valign=\"top\" class=\"title\"><span class=\"rank\">26.</span></td>      <td valign=\"top\" class=\"votelinks\"><center><a id='up_25863999' href='vote?id=25863999&amp;how=up&amp;goto=news'><div class='votearrow' title='upvote'></div></a></center></td><td class=\"title\"><a href=\"https://www.npr.org/2021/01/21/956486352/judge-refuses-to-reinstate-parler-after-amazon-shut-it-down\" class=\"storylink\">Judge refuses to reinstate Parler after Amazon shut it down</a><span class=\"sitebit comhead\"> (<a href=\"from?site=npr.org\"><span class=\"sitestr\">npr.org</span></a>)</span></td></tr><tr><td colspan=\"2\"></td><td class=\"subtext\">\n",
      "        <span class=\"score\" id=\"score_25863999\">308 points</span> by <a href=\"user?id=eu\" class=\"hnuser\">eu</a> <span class=\"age\"><a href=\"item?id=25863999\">14 hours ago</a></span> <span id=\"unv_25863999\"></span> | <a href=\"hide?id=25863999&amp;goto=news\">hide</a> | <a href=\"item?id=25863999\">516&nbsp;comments</a>              </td></tr>\n",
      "      <tr class=\"spacer\" style=\"height:5px\"></tr>\n",
      "                <tr class='athing' id='25856788'>\n",
      "      <td align=\"right\" valign=\"top\" class=\"title\"><span class=\"rank\">27.</span></td>      <td valign=\"top\" class=\"votelinks\"><center><a id='up_25856788' href='vote?id=25856788&amp;how=up&amp;goto=news'><div class='votearrow' title='upvote'></div></a></center></td><td class=\"title\"><a href=\"https://www.cnx-software.com/2021/01/20/valetudo-is-a-cloud-free-web-interface-for-robot-vacuum-cleaners/\" class=\"storylink\">Valetudo is a cloud-free web interface for robot vacuum cleaners</a><span class=\"sitebit comhead\"> (<a href=\"from?site=cnx-software.com\"><span class=\"sitestr\">cnx-software.com</span></a>)</span></td></tr><tr><td colspan=\"2\"></td><td class=\"subtext\">\n",
      "        <span class=\"score\" id=\"score_25856788\">40 points</span> by <a href=\"user?id=dmayle\" class=\"hnuser\">dmayle</a> <span class=\"age\"><a href=\"item?id=25856788\">9 hours ago</a></span> <span id=\"unv_25856788\"></span> | <a href=\"hide?id=25856788&amp;goto=news\">hide</a> | <a href=\"item?id=25856788\">9&nbsp;comments</a>              </td></tr>\n",
      "      <tr class=\"spacer\" style=\"height:5px\"></tr>\n",
      "                <tr class='athing' id='25859622'>\n",
      "      <td align=\"right\" valign=\"top\" class=\"title\"><span class=\"rank\">28.</span></td>      <td valign=\"top\" class=\"votelinks\"><center><a id='up_25859622' href='vote?id=25859622&amp;how=up&amp;goto=news'><div class='votearrow' title='upvote'></div></a></center></td><td class=\"title\"><a href=\"https://www.ianvisits.co.uk/blog/2021/01/21/over-700000-paintings-from-the-rijksmuseum-online-copyright-free/\" class=\"storylink\">Over 700k paintings from the Rijksmuseum online copyright free</a><span class=\"sitebit comhead\"> (<a href=\"from?site=ianvisits.co.uk\"><span class=\"sitestr\">ianvisits.co.uk</span></a>)</span></td></tr><tr><td colspan=\"2\"></td><td class=\"subtext\">\n",
      "        <span class=\"score\" id=\"score_25859622\">366 points</span> by <a href=\"user?id=edward\" class=\"hnuser\">edward</a> <span class=\"age\"><a href=\"item?id=25859622\">20 hours ago</a></span> <span id=\"unv_25859622\"></span> | <a href=\"hide?id=25859622&amp;goto=news\">hide</a> | <a href=\"item?id=25859622\">122&nbsp;comments</a>              </td></tr>\n",
      "      <tr class=\"spacer\" style=\"height:5px\"></tr>\n",
      "                <tr class='athing' id='25848278'>\n",
      "      <td align=\"right\" valign=\"top\" class=\"title\"><span class=\"rank\">29.</span></td>      <td valign=\"top\" class=\"votelinks\"><center><a id='up_25848278' href='vote?id=25848278&amp;how=up&amp;goto=news'><div class='votearrow' title='upvote'></div></a></center></td><td class=\"title\"><a href=\"https://www.beeperhq.com/?hn\" class=\"storylink\">Show HN: Beeper – All Your Chats in One App</a><span class=\"sitebit comhead\"> (<a href=\"from?site=beeperhq.com\"><span class=\"sitestr\">beeperhq.com</span></a>)</span></td></tr><tr><td colspan=\"2\"></td><td class=\"subtext\">\n",
      "        <span class=\"score\" id=\"score_25848278\">878 points</span> by <a href=\"user?id=erohead\" class=\"hnuser\">erohead</a> <span class=\"age\"><a href=\"item?id=25848278\">1 day ago</a></span> <span id=\"unv_25848278\"></span> | <a href=\"hide?id=25848278&amp;goto=news\">hide</a> | <a href=\"item?id=25848278\">455&nbsp;comments</a>              </td></tr>\n",
      "      <tr class=\"spacer\" style=\"height:5px\"></tr>\n",
      "                <tr class='athing' id='25858566'>\n",
      "      <td align=\"right\" valign=\"top\" class=\"title\"><span class=\"rank\">30.</span></td>      <td valign=\"top\" class=\"votelinks\"><center><a id='up_25858566' href='vote?id=25858566&amp;how=up&amp;goto=news'><div class='votearrow' title='upvote'></div></a></center></td><td class=\"title\"><a href=\"https://futureoftheocean.wordpress.com/2017/08/01/how-do-you-tag-a-jellyfish/\" class=\"storylink\">How do you tag a jellyfish? (2017)</a><span class=\"sitebit comhead\"> (<a href=\"from?site=futureoftheocean.wordpress.com\"><span class=\"sitestr\">futureoftheocean.wordpress.com</span></a>)</span></td></tr><tr><td colspan=\"2\"></td><td class=\"subtext\">\n",
      "        <span class=\"score\" id=\"score_25858566\">26 points</span> by <a href=\"user?id=Tomte\" class=\"hnuser\">Tomte</a> <span class=\"age\"><a href=\"item?id=25858566\">10 hours ago</a></span> <span id=\"unv_25858566\"></span> | <a href=\"hide?id=25858566&amp;goto=news\">hide</a> | <a href=\"item?id=25858566\">5&nbsp;comments</a>              </td></tr>\n",
      "      <tr class=\"spacer\" style=\"height:5px\"></tr>\n",
      "            <tr class=\"morespace\" style=\"height:10px\"></tr><tr><td colspan=\"2\"></td><td class=\"title\"><a href=\"news?p=2\" class=\"morelink\" rel=\"next\">More</a></td></tr>\n",
      "  </table>\n",
      "</td></tr>\n",
      "<tr><td><img src=\"s.gif\" height=\"10\" width=\"0\"><table width=\"100%\" cellspacing=\"0\" cellpadding=\"1\"><tr><td bgcolor=\"#ff6600\"></td></tr></table><br><center><span class=\"yclinks\"><a href=\"newsguidelines.html\">Guidelines</a>\n",
      "        | <a href=\"newsfaq.html\">FAQ</a>\n",
      "        | <a href=\"lists\">Lists</a>\n",
      "        | <a href=\"https://github.com/HackerNews/API\">API</a>\n",
      "        | <a href=\"security.html\">Security</a>\n",
      "        | <a href=\"http://www.ycombinator.com/legal/\">Legal</a>\n",
      "        | <a href=\"http://www.ycombinator.com/apply/\">Apply to YC</a>\n",
      "        | <a href=\"mailto:hn@ycombinator.com\">Contact</a></span><br><br><form method=\"get\" action=\"//hn.algolia.com/\">Search:\n",
      "          <input type=\"text\" name=\"q\" value=\"\" size=\"17\" autocorrect=\"off\" spellcheck=\"false\" autocapitalize=\"off\" autocomplete=\"false\"></form>\n",
      "            </center></td></tr>\n",
      "      </table></center></body><script type='text/javascript' src='hn.js?U9IPZKYheFex0oNnJZBm'></script></html>\n",
      "\n"
     ]
    }
   ],
   "source": [
    "# Cleaning\n",
    "# Fetch a web page\n",
    "\n",
    "r = requests.get(\"https://news.ycombinator.com\")\n",
    "print(r.text)"
   ]
  },
  {
   "cell_type": "code",
   "execution_count": 7,
   "metadata": {
    "collapsed": true,
    "jupyter": {
     "outputs_hidden": true
    }
   },
   "outputs": [
    {
     "name": "stdout",
     "output_type": "stream",
     "text": [
      "\n",
      "        \n",
      "          \n",
      "        Hacker News\n",
      "        \n",
      "                  Hacker News\n",
      "              new | past | comments | ask | show | jobs | submit            \n",
      "                              login\n",
      "                          \n",
      "              \n",
      "\n",
      "              \n",
      "      1.      AWS announces forks of Elasticsearch and Kibana (amazon.com)\n",
      "        1041 points by ke4qqq 13 hours ago  | hide | 752&nbsp;comments              \n",
      "      \n",
      "                \n",
      "      2.      Complete rewrite of ownCloud to move away from LAMP (owncloud.com)\n",
      "        79 points by veddox 2 hours ago  | hide | 59&nbsp;comments              \n",
      "      \n",
      "                \n",
      "      3.      Show HN: 128-bit, roughly-ordered, URL-safe UUIDs (github.com/anthonynsimon)\n",
      "        10 points by amzans 43 minutes ago  | hide | 1&nbsp;comment              \n",
      "      \n",
      "                \n",
      "      4.      The spat between Google and Australia, as reported on HN (algolia.com)\n",
      "        9 points by ColinWright 28 minutes ago  | hide | 4&nbsp;comments              \n",
      "      \n",
      "                \n",
      "      5.      Show HN: Git News – Social News website for developers and GitHub fans (gitnews.tech)\n",
      "        61 points by nimit95 5 hours ago  | hide | 26&nbsp;comments              \n",
      "      \n",
      "                \n",
      "      6.      DeLorean considering all-electric reboot (newdelorean.com)\n",
      "        375 points by evo_9 14 hours ago  | hide | 230&nbsp;comments              \n",
      "      \n",
      "                \n",
      "      7.      Tales of Favicons and Caches: Persistent Tracking in Modern Browsers [pdf] (uic.edu)\n",
      "        81 points by amenghra 5 hours ago  | hide | 18&nbsp;comments              \n",
      "      \n",
      "                \n",
      "      8.      Show HN: Welder – Record high-quality remote interviews (getwelder.com)\n",
      "        21 points by JohanCutych 2 hours ago  | hide | 13&nbsp;comments              \n",
      "      \n",
      "                \n",
      "      9.      Constructing an 8-bit relay computer from scratch (relaycomputer.co.uk)\n",
      "        29 points by hggh 3 hours ago  | hide | 3&nbsp;comments              \n",
      "      \n",
      "                \n",
      "      10.      The Secure Messaging App Conundrum: Signal vs. Telegram (A Comparisson for Non [pdf] (usi.ch)\n",
      "        22 points by todsacerdoti 1 hour ago  | hide | 13&nbsp;comments              \n",
      "      \n",
      "                \n",
      "      11.      Android Ported to RISC-V (theregister.com)\n",
      "        46 points by phkahler 2 hours ago  | hide | 4&nbsp;comments              \n",
      "      \n",
      "                \n",
      "      12.      Knuth-Morris-Pratt string-searching algorithm: DFA-less version (yurichev.com)\n",
      "        9 points by ingve 2 hours ago  | hide | 1&nbsp;comment              \n",
      "      \n",
      "                \n",
      "      13.      Remembering the work of David M. Tilbrook and the QED editor (leahneukirchen.org)\n",
      "        12 points by todsacerdoti 4 hours ago  | hide | discuss              \n",
      "      \n",
      "                \n",
      "      14.      Why isn't differential dataflow more popular? (scattered-thoughts.net)\n",
      "        103 points by jamii 8 hours ago  | hide | 38&nbsp;comments              \n",
      "      \n",
      "                \n",
      "      15.      Launch HN: Finmark (YC S20) – Financial planning software for startups\n",
      "        149 points by ramie 16 hours ago  | hide | 57&nbsp;comments              \n",
      "      \n",
      "                \n",
      "      16.      Still alive (astralcodexten.substack.com)\n",
      "        718 points by Lewton 13 hours ago  | hide | 233&nbsp;comments              \n",
      "      \n",
      "                \n",
      "      17.      Loon’s final flight (x.company)\n",
      "        225 points by sarthakjshetty 5 hours ago  | hide | 178&nbsp;comments              \n",
      "      \n",
      "                \n",
      "      18.      Monarch butterfly population in California spirals to another record low (xerces.org)\n",
      "        121 points by prostoalex 6 hours ago  | hide | 28&nbsp;comments              \n",
      "      \n",
      "                \n",
      "      19.      New Intel CEO rehiring retired CPU architects (anandtech.com)\n",
      "        647 points by rbanffy 21 hours ago  | hide | 423&nbsp;comments              \n",
      "      \n",
      "                \n",
      "      20.      Retiring Tucows Downloads (tucows.com)\n",
      "        466 points by andrewdutton 16 hours ago  | hide | 182&nbsp;comments              \n",
      "      \n",
      "                \n",
      "      21.      Basic Scripting with Awk and Gnuplot (cyberchris.xyz)\n",
      "        86 points by thevirtuoso1973 14 hours ago  | hide | 8&nbsp;comments              \n",
      "      \n",
      "                \n",
      "      22.      Relationship Hero (YC S17) Is Hiring Coaches – Full Time Remote (relationshiphero.com)\n",
      "        10 hours ago | hide      \n",
      "      \n",
      "                \n",
      "      23.      The database servers powering Let's Encrypt (letsencrypt.org)\n",
      "        423 points by jaas 18 hours ago  | hide | 192&nbsp;comments              \n",
      "      \n",
      "                \n",
      "      24.      Bitwarden releases “emergency access” feature (bitwarden.com)\n",
      "        333 points by madsmtm 15 hours ago  | hide | 121&nbsp;comments              \n",
      "      \n",
      "                \n",
      "      25.      Fornax a Galaxy Investigated with AstroSat (phys.org)\n",
      "        12 points by dnetesn 5 hours ago  | hide | 3&nbsp;comments              \n",
      "      \n",
      "                \n",
      "      26.      Judge refuses to reinstate Parler after Amazon shut it down (npr.org)\n",
      "        308 points by eu 14 hours ago  | hide | 516&nbsp;comments              \n",
      "      \n",
      "                \n",
      "      27.      Valetudo is a cloud-free web interface for robot vacuum cleaners (cnx-software.com)\n",
      "        40 points by dmayle 9 hours ago  | hide | 9&nbsp;comments              \n",
      "      \n",
      "                \n",
      "      28.      Over 700k paintings from the Rijksmuseum online copyright free (ianvisits.co.uk)\n",
      "        366 points by edward 20 hours ago  | hide | 122&nbsp;comments              \n",
      "      \n",
      "                \n",
      "      29.      Show HN: Beeper – All Your Chats in One App (beeperhq.com)\n",
      "        878 points by erohead 1 day ago  | hide | 455&nbsp;comments              \n",
      "      \n",
      "                \n",
      "      30.      How do you tag a jellyfish? (2017) (futureoftheocean.wordpress.com)\n",
      "        26 points by Tomte 10 hours ago  | hide | 5&nbsp;comments              \n",
      "      \n",
      "            More\n",
      "  \n",
      "\n",
      "Guidelines\n",
      "        | FAQ\n",
      "        | Lists\n",
      "        | API\n",
      "        | Security\n",
      "        | Legal\n",
      "        | Apply to YC\n",
      "        | ContactSearch:\n",
      "          \n",
      "            \n",
      "      \n",
      "\n"
     ]
    }
   ],
   "source": [
    "# Remove HTML tags using RegEx\n",
    "import re\n",
    "\n",
    "pattern = re.compile(r'<.*?>') # tags look like <...>\n",
    "print(pattern.sub('',r.text))"
   ]
  },
  {
   "cell_type": "code",
   "execution_count": 8,
   "metadata": {
    "collapsed": true,
    "jupyter": {
     "outputs_hidden": true
    }
   },
   "outputs": [
    {
     "name": "stdout",
     "output_type": "stream",
     "text": [
      "\n",
      "        \n",
      "          \n",
      "        Hacker News\n",
      "        \n",
      "                  Hacker News\n",
      "              new | past | comments | ask | show | jobs | submit            \n",
      "                              login\n",
      "                          \n",
      "              \n",
      "\n",
      "              \n",
      "      1.      AWS announces forks of Elasticsearch and Kibana (amazon.com)\n",
      "        1041 points by ke4qqq 13 hours ago  | hide | 752 comments              \n",
      "      \n",
      "                \n",
      "      2.      Complete rewrite of ownCloud to move away from LAMP (owncloud.com)\n",
      "        79 points by veddox 2 hours ago  | hide | 59 comments              \n",
      "      \n",
      "                \n",
      "      3.      Show HN: 128-bit, roughly-ordered, URL-safe UUIDs (github.com/anthonynsimon)\n",
      "        10 points by amzans 43 minutes ago  | hide | 1 comment              \n",
      "      \n",
      "                \n",
      "      4.      The spat between Google and Australia, as reported on HN (algolia.com)\n",
      "        9 points by ColinWright 28 minutes ago  | hide | 4 comments              \n",
      "      \n",
      "                \n",
      "      5.      Show HN: Git News – Social News website for developers and GitHub fans (gitnews.tech)\n",
      "        61 points by nimit95 5 hours ago  | hide | 26 comments              \n",
      "      \n",
      "                \n",
      "      6.      DeLorean considering all-electric reboot (newdelorean.com)\n",
      "        375 points by evo_9 14 hours ago  | hide | 230 comments              \n",
      "      \n",
      "                \n",
      "      7.      Tales of Favicons and Caches: Persistent Tracking in Modern Browsers [pdf] (uic.edu)\n",
      "        81 points by amenghra 5 hours ago  | hide | 18 comments              \n",
      "      \n",
      "                \n",
      "      8.      Show HN: Welder – Record high-quality remote interviews (getwelder.com)\n",
      "        21 points by JohanCutych 2 hours ago  | hide | 13 comments              \n",
      "      \n",
      "                \n",
      "      9.      Constructing an 8-bit relay computer from scratch (relaycomputer.co.uk)\n",
      "        29 points by hggh 3 hours ago  | hide | 3 comments              \n",
      "      \n",
      "                \n",
      "      10.      The Secure Messaging App Conundrum: Signal vs. Telegram (A Comparisson for Non [pdf] (usi.ch)\n",
      "        22 points by todsacerdoti 1 hour ago  | hide | 13 comments              \n",
      "      \n",
      "                \n",
      "      11.      Android Ported to RISC-V (theregister.com)\n",
      "        46 points by phkahler 2 hours ago  | hide | 4 comments              \n",
      "      \n",
      "                \n",
      "      12.      Knuth-Morris-Pratt string-searching algorithm: DFA-less version (yurichev.com)\n",
      "        9 points by ingve 2 hours ago  | hide | 1 comment              \n",
      "      \n",
      "                \n",
      "      13.      Remembering the work of David M. Tilbrook and the QED editor (leahneukirchen.org)\n",
      "        12 points by todsacerdoti 4 hours ago  | hide | discuss              \n",
      "      \n",
      "                \n",
      "      14.      Why isn't differential dataflow more popular? (scattered-thoughts.net)\n",
      "        103 points by jamii 8 hours ago  | hide | 38 comments              \n",
      "      \n",
      "                \n",
      "      15.      Launch HN: Finmark (YC S20) – Financial planning software for startups\n",
      "        149 points by ramie 16 hours ago  | hide | 57 comments              \n",
      "      \n",
      "                \n",
      "      16.      Still alive (astralcodexten.substack.com)\n",
      "        718 points by Lewton 13 hours ago  | hide | 233 comments              \n",
      "      \n",
      "                \n",
      "      17.      Loon’s final flight (x.company)\n",
      "        225 points by sarthakjshetty 5 hours ago  | hide | 178 comments              \n",
      "      \n",
      "                \n",
      "      18.      Monarch butterfly population in California spirals to another record low (xerces.org)\n",
      "        121 points by prostoalex 6 hours ago  | hide | 28 comments              \n",
      "      \n",
      "                \n",
      "      19.      New Intel CEO rehiring retired CPU architects (anandtech.com)\n",
      "        647 points by rbanffy 21 hours ago  | hide | 423 comments              \n",
      "      \n",
      "                \n",
      "      20.      Retiring Tucows Downloads (tucows.com)\n",
      "        466 points by andrewdutton 16 hours ago  | hide | 182 comments              \n",
      "      \n",
      "                \n",
      "      21.      Basic Scripting with Awk and Gnuplot (cyberchris.xyz)\n",
      "        86 points by thevirtuoso1973 14 hours ago  | hide | 8 comments              \n",
      "      \n",
      "                \n",
      "      22.      Relationship Hero (YC S17) Is Hiring Coaches – Full Time Remote (relationshiphero.com)\n",
      "        10 hours ago | hide      \n",
      "      \n",
      "                \n",
      "      23.      The database servers powering Let's Encrypt (letsencrypt.org)\n",
      "        423 points by jaas 18 hours ago  | hide | 192 comments              \n",
      "      \n",
      "                \n",
      "      24.      Bitwarden releases “emergency access” feature (bitwarden.com)\n",
      "        333 points by madsmtm 15 hours ago  | hide | 121 comments              \n",
      "      \n",
      "                \n",
      "      25.      Fornax a Galaxy Investigated with AstroSat (phys.org)\n",
      "        12 points by dnetesn 5 hours ago  | hide | 3 comments              \n",
      "      \n",
      "                \n",
      "      26.      Judge refuses to reinstate Parler after Amazon shut it down (npr.org)\n",
      "        308 points by eu 14 hours ago  | hide | 516 comments              \n",
      "      \n",
      "                \n",
      "      27.      Valetudo is a cloud-free web interface for robot vacuum cleaners (cnx-software.com)\n",
      "        40 points by dmayle 9 hours ago  | hide | 9 comments              \n",
      "      \n",
      "                \n",
      "      28.      Over 700k paintings from the Rijksmuseum online copyright free (ianvisits.co.uk)\n",
      "        366 points by edward 20 hours ago  | hide | 122 comments              \n",
      "      \n",
      "                \n",
      "      29.      Show HN: Beeper – All Your Chats in One App (beeperhq.com)\n",
      "        878 points by erohead 1 day ago  | hide | 455 comments              \n",
      "      \n",
      "                \n",
      "      30.      How do you tag a jellyfish? (2017) (futureoftheocean.wordpress.com)\n",
      "        26 points by Tomte 10 hours ago  | hide | 5 comments              \n",
      "      \n",
      "            More\n",
      "  \n",
      "\n",
      "Guidelines\n",
      "        | FAQ\n",
      "        | Lists\n",
      "        | API\n",
      "        | Security\n",
      "        | Legal\n",
      "        | Apply to YC\n",
      "        | ContactSearch:\n",
      "          \n",
      "            \n",
      "      \n",
      "\n"
     ]
    }
   ],
   "source": [
    "from bs4 import BeautifulSoup\n",
    "\n",
    "# Remove HTML tags using Beautiful Soup library\n",
    "soup = BeautifulSoup(r.text, \"html5lib\")\n",
    "print(soup.get_text())"
   ]
  },
  {
   "cell_type": "code",
   "execution_count": 14,
   "metadata": {},
   "outputs": [
    {
     "data": {
      "text/plain": [
       "<tr class=\"athing\" id=\"25865094\">\n",
       "      <td align=\"right\" class=\"title\" valign=\"top\"><span class=\"rank\">1.</span></td>      <td class=\"votelinks\" valign=\"top\"><center><a href=\"vote?id=25865094&amp;how=up&amp;goto=news\" id=\"up_25865094\"><div class=\"votearrow\" title=\"upvote\"></div></a></center></td><td class=\"title\"><a class=\"storylink\" href=\"https://aws.amazon.com/blogs/opensource/stepping-up-for-a-truly-open-source-elasticsearch\">AWS announces forks of Elasticsearch and Kibana</a><span class=\"sitebit comhead\"> (<a href=\"from?site=amazon.com\"><span class=\"sitestr\">amazon.com</span></a>)</span></td></tr>"
      ]
     },
     "execution_count": 14,
     "metadata": {},
     "output_type": "execute_result"
    }
   ],
   "source": [
    "# Find all articles\n",
    "\n",
    "summaries = soup.find_all(\"tr\",class_='athing')\n",
    "summaries[0]"
   ]
  },
  {
   "cell_type": "code",
   "execution_count": 15,
   "metadata": {},
   "outputs": [
    {
     "data": {
      "text/plain": [
       "'AWS announces forks of Elasticsearch and Kibana'"
      ]
     },
     "execution_count": 15,
     "metadata": {},
     "output_type": "execute_result"
    }
   ],
   "source": [
    "# Extract title\n",
    "\n",
    "summaries[0].find(\"a\",class_ = 'storylink').get_text().strip()"
   ]
  },
  {
   "cell_type": "code",
   "execution_count": 20,
   "metadata": {},
   "outputs": [
    {
     "name": "stdout",
     "output_type": "stream",
     "text": [
      "30 Article summaries found. Sample:\n"
     ]
    },
    {
     "data": {
      "text/plain": [
       "['AWS announces forks of Elasticsearch and Kibana',\n",
       " 'Complete rewrite of ownCloud to move away from LAMP',\n",
       " 'Show HN: 128-bit, roughly-ordered, URL-safe UUIDs',\n",
       " 'The spat between Google and Australia, as reported on HN',\n",
       " 'Show HN: Git News – Social News website for developers and GitHub fans']"
      ]
     },
     "execution_count": 20,
     "metadata": {},
     "output_type": "execute_result"
    }
   ],
   "source": [
    "# Find all articles, extract titles\n",
    "\n",
    "articles = []\n",
    "summaries = soup.find_all(\"tr\",class_='athing')\n",
    "for summary in summaries:\n",
    "    title = summary.find(\"a\",class_ = 'storylink').get_text().strip()\n",
    "    articles.append(title)\n",
    "    \n",
    "print(len(articles),\"Article summaries found. Sample:\")\n",
    "articles[0:5]"
   ]
  },
  {
   "cell_type": "code",
   "execution_count": 21,
   "metadata": {},
   "outputs": [
    {
     "name": "stdout",
     "output_type": "stream",
     "text": [
      "The first time you see The Second Renaissance it may look boring. Look at it at least twice and definitely watch part 2. It will change your view of the matrix. Are the human people the ones who started the war ? Is AI a bad thing ?\n"
     ]
    }
   ],
   "source": [
    "# Normalization\n",
    "# Case Normalization\n",
    "\n",
    "# Sample text\n",
    "text = \"The first time you see The Second Renaissance it may look boring. Look at it at least twice and definitely watch part 2. It will change your view of the matrix. Are the human people the ones who started the war ? Is AI a bad thing ?\"\n",
    "print(text)"
   ]
  },
  {
   "cell_type": "code",
   "execution_count": 24,
   "metadata": {},
   "outputs": [
    {
     "name": "stdout",
     "output_type": "stream",
     "text": [
      "the first time you see the second renaissance it may look boring. look at it at least twice and definitely watch part 2. it will change your view of the matrix. are the human people the ones who started the war ? is ai a bad thing ?\n"
     ]
    }
   ],
   "source": [
    "# Convert to lowercase\n",
    "text = text.lower()\n",
    "print(text)"
   ]
  },
  {
   "cell_type": "code",
   "execution_count": 25,
   "metadata": {},
   "outputs": [
    {
     "name": "stdout",
     "output_type": "stream",
     "text": [
      "the first time you see the second renaissance it may look boring  look at it at least twice and definitely watch part 2  it will change your view of the matrix  are the human people the ones who started the war   is ai a bad thing  \n"
     ]
    }
   ],
   "source": [
    "# Remove punctuation characters\n",
    "\n",
    "text = re.sub(r'[^a-z0-9A-Z]',' ',text)\n",
    "print(text)"
   ]
  },
  {
   "cell_type": "code",
   "execution_count": 26,
   "metadata": {},
   "outputs": [
    {
     "name": "stdout",
     "output_type": "stream",
     "text": [
      "['the', 'first', 'time', 'you', 'see', 'the', 'second', 'renaissance', 'it', 'may', 'look', 'boring', 'look', 'at', 'it', 'at', 'least', 'twice', 'and', 'definitely', 'watch', 'part', '2', 'it', 'will', 'change', 'your', 'view', 'of', 'the', 'matrix', 'are', 'the', 'human', 'people', 'the', 'ones', 'who', 'started', 'the', 'war', 'is', 'ai', 'a', 'bad', 'thing']\n"
     ]
    }
   ],
   "source": [
    "# Tokenization\n",
    "# Split text into tokens (words)\n",
    "\n",
    "words = text.split()\n",
    "print(words)\n"
   ]
  },
  {
   "cell_type": "code",
   "execution_count": 27,
   "metadata": {},
   "outputs": [],
   "source": [
    "# NLTK: Natural Language ToolKit\n",
    "\n",
    "import os\n",
    "import nltk\n",
    "\n",
    "nltk.data.path.append(os.path.join(os.getcwd(), \"nltk_data\"))"
   ]
  },
  {
   "cell_type": "code",
   "execution_count": 28,
   "metadata": {},
   "outputs": [
    {
     "name": "stdout",
     "output_type": "stream",
     "text": [
      "Dr. Smith graduated from the University of Washington. He later started an analytics firm called Lux, which catered to enterprise customers.\n"
     ]
    }
   ],
   "source": [
    "# Another sample text\n",
    "text = \"Dr. Smith graduated from the University of Washington. He later started an analytics firm called Lux, which catered to enterprise customers.\"\n",
    "print(text)"
   ]
  },
  {
   "cell_type": "code",
   "execution_count": 29,
   "metadata": {},
   "outputs": [
    {
     "name": "stdout",
     "output_type": "stream",
     "text": [
      "['Dr.', 'Smith', 'graduated', 'from', 'the', 'University', 'of', 'Washington', '.', 'He', 'later', 'started', 'an', 'analytics', 'firm', 'called', 'Lux', ',', 'which', 'catered', 'to', 'enterprise', 'customers', '.']\n"
     ]
    }
   ],
   "source": [
    "# Split text into words using NLTK\n",
    "\n",
    "from nltk.tokenize import word_tokenize\n",
    "\n",
    "words = word_tokenize(text)\n",
    "print(words)"
   ]
  },
  {
   "cell_type": "code",
   "execution_count": 30,
   "metadata": {},
   "outputs": [
    {
     "name": "stdout",
     "output_type": "stream",
     "text": [
      "['Dr. Smith graduated from the University of Washington.', 'He later started an analytics firm called Lux, which catered to enterprise customers.']\n"
     ]
    }
   ],
   "source": [
    "from nltk.tokenize import sent_tokenize\n",
    "\n",
    "# Split text into sentences\n",
    "sentences = sent_tokenize(text)\n",
    "print(sentences)"
   ]
  },
  {
   "cell_type": "code",
   "execution_count": 31,
   "metadata": {},
   "outputs": [
    {
     "name": "stdout",
     "output_type": "stream",
     "text": [
      "['i', 'me', 'my', 'myself', 'we', 'our', 'ours', 'ourselves', 'you', \"you're\", \"you've\", \"you'll\", \"you'd\", 'your', 'yours', 'yourself', 'yourselves', 'he', 'him', 'his', 'himself', 'she', \"she's\", 'her', 'hers', 'herself', 'it', \"it's\", 'its', 'itself', 'they', 'them', 'their', 'theirs', 'themselves', 'what', 'which', 'who', 'whom', 'this', 'that', \"that'll\", 'these', 'those', 'am', 'is', 'are', 'was', 'were', 'be', 'been', 'being', 'have', 'has', 'had', 'having', 'do', 'does', 'did', 'doing', 'a', 'an', 'the', 'and', 'but', 'if', 'or', 'because', 'as', 'until', 'while', 'of', 'at', 'by', 'for', 'with', 'about', 'against', 'between', 'into', 'through', 'during', 'before', 'after', 'above', 'below', 'to', 'from', 'up', 'down', 'in', 'out', 'on', 'off', 'over', 'under', 'again', 'further', 'then', 'once', 'here', 'there', 'when', 'where', 'why', 'how', 'all', 'any', 'both', 'each', 'few', 'more', 'most', 'other', 'some', 'such', 'no', 'nor', 'not', 'only', 'own', 'same', 'so', 'than', 'too', 'very', 's', 't', 'can', 'will', 'just', 'don', \"don't\", 'should', \"should've\", 'now', 'd', 'll', 'm', 'o', 're', 've', 'y', 'ain', 'aren', \"aren't\", 'couldn', \"couldn't\", 'didn', \"didn't\", 'doesn', \"doesn't\", 'hadn', \"hadn't\", 'hasn', \"hasn't\", 'haven', \"haven't\", 'isn', \"isn't\", 'ma', 'mightn', \"mightn't\", 'mustn', \"mustn't\", 'needn', \"needn't\", 'shan', \"shan't\", 'shouldn', \"shouldn't\", 'wasn', \"wasn't\", 'weren', \"weren't\", 'won', \"won't\", 'wouldn', \"wouldn't\"]\n"
     ]
    }
   ],
   "source": [
    "# List stop words\n",
    "from nltk.corpus import stopwords\n",
    "print(stopwords.words('English'))"
   ]
  },
  {
   "cell_type": "code",
   "execution_count": 32,
   "metadata": {},
   "outputs": [
    {
     "name": "stdout",
     "output_type": "stream",
     "text": [
      "['the', 'first', 'time', 'you', 'see', 'the', 'second', 'renaissance', 'it', 'may', 'look', 'boring', 'look', 'at', 'it', 'at', 'least', 'twice', 'and', 'definitely', 'watch', 'part', '2', 'it', 'will', 'change', 'your', 'view', 'of', 'the', 'matrix', 'are', 'the', 'human', 'people', 'the', 'ones', 'who', 'started', 'the', 'war', 'is', 'ai', 'a', 'bad', 'thing']\n"
     ]
    }
   ],
   "source": [
    "# Reset text\n",
    "text = \"The first time you see The Second Renaissance it may look boring. Look at it at least twice and definitely watch part 2. It will change your view of the matrix. Are the human people the ones who started the war ? Is AI a bad thing ?\"\n",
    "\n",
    "# Normalize it\n",
    "text = re.sub(r\"[^a-zA-Z0-9]\", \" \", text.lower())\n",
    "\n",
    "# Tokenize it\n",
    "words = text.split()\n",
    "print(words)"
   ]
  },
  {
   "cell_type": "code",
   "execution_count": 33,
   "metadata": {},
   "outputs": [
    {
     "name": "stdout",
     "output_type": "stream",
     "text": [
      "['first', 'time', 'see', 'second', 'renaissance', 'may', 'look', 'boring', 'look', 'least', 'twice', 'definitely', 'watch', 'part', '2', 'change', 'view', 'matrix', 'human', 'people', 'ones', 'started', 'war', 'ai', 'bad', 'thing']\n"
     ]
    }
   ],
   "source": [
    "# Remove stop words\n",
    "\n",
    "words = [w for w in words if w not in stopwords.words('English')]\n",
    "print(words)"
   ]
  },
  {
   "cell_type": "code",
   "execution_count": 34,
   "metadata": {},
   "outputs": [
    {
     "name": "stdout",
     "output_type": "stream",
     "text": [
      "(S\n",
      "  (NP I)\n",
      "  (VP\n",
      "    (VP (V shot) (NP (Det an) (N elephant)))\n",
      "    (PP (P in) (NP (Det my) (N pajamas)))))\n",
      "(S\n",
      "  (NP I)\n",
      "  (VP\n",
      "    (V shot)\n",
      "    (NP (Det an) (N elephant) (PP (P in) (NP (Det my) (N pajamas))))))\n"
     ]
    }
   ],
   "source": [
    "# Sentence Parsing\n",
    "\n",
    "my_grammar = nltk.CFG.fromstring(\"\"\"\n",
    "S -> NP VP\n",
    "PP -> P NP\n",
    "NP -> Det N | Det N PP | 'I'\n",
    "VP -> V NP | VP PP\n",
    "Det -> 'an' | 'my'\n",
    "N -> 'elephant' | 'pajamas'\n",
    "V -> 'shot'\n",
    "P -> 'in'\n",
    "\"\"\")\n",
    "parser = nltk.ChartParser(my_grammar)\n",
    "\n",
    "# Parse a sentence\n",
    "sentence = word_tokenize(\"I shot an elephant in my pajamas\")\n",
    "for tree in parser.parse(sentence):\n",
    "    print(tree)"
   ]
  },
  {
   "cell_type": "code",
   "execution_count": 38,
   "metadata": {},
   "outputs": [
    {
     "name": "stdout",
     "output_type": "stream",
     "text": [
      "['first', 'time', 'see', 'second', 'renaiss', 'may', 'look', 'bore', 'look', 'least', 'twice', 'definit', 'watch', 'part', '2', 'chang', 'view', 'matrix', 'human', 'peopl', 'one', 'start', 'war', 'ai', 'bad', 'thing']\n"
     ]
    }
   ],
   "source": [
    "# Stemming & Lemmatization\n",
    "# Stemming\n",
    "\n",
    "from nltk.stem.porter import PorterStemmer\n",
    "\n",
    "# Reduce words to their stems\n",
    "stemmed = [PorterStemmer().stem(w) for w in words]\n",
    "print(stemmed)"
   ]
  },
  {
   "cell_type": "code",
   "execution_count": 46,
   "metadata": {},
   "outputs": [
    {
     "name": "stdout",
     "output_type": "stream",
     "text": [
      "['first', 'time', 'see', 'second', 'renaissance', 'may', 'look', 'bore', 'look', 'least', 'twice', 'definitely', 'watch', 'part', '2', 'change', 'view', 'matrix', 'human', 'people', 'ones', 'start', 'war', 'ai', 'bad', 'thing']\n",
      "['first', 'time', 'see', 'second', 'renaissance', 'may', 'look', 'bore', 'look', 'least', 'twice', 'definitely', 'watch', 'part', '2', 'change', 'view', 'matrix', 'human', 'people', 'ones', 'start', 'war', 'ai', 'bad', 'thing']\n"
     ]
    }
   ],
   "source": [
    "# Lemmatization\n",
    "\n",
    "from nltk.stem.wordnet import WordNetLemmatizer\n",
    "# Reduce words to their root form\n",
    "\n",
    "lemmed = [WordNetLemmatizer().lemmatize(w, pos = 'v') for w in words]\n",
    "print(lemmad)\n",
    "\n",
    "# Lemmatize verbs by specifying pos\n",
    "lemmed = [WordNetLemmatizer().lemmatize(w, pos='v') for w in lemmed]\n",
    "print(lemmed)"
   ]
  },
  {
   "cell_type": "code",
   "execution_count": null,
   "metadata": {},
   "outputs": [],
   "source": []
  }
 ],
 "metadata": {
  "kernelspec": {
   "display_name": "Python 3",
   "language": "python",
   "name": "python3"
  },
  "language_info": {
   "codemirror_mode": {
    "name": "ipython",
    "version": 3
   },
   "file_extension": ".py",
   "mimetype": "text/x-python",
   "name": "python",
   "nbconvert_exporter": "python",
   "pygments_lexer": "ipython3",
   "version": "3.7.9"
  }
 },
 "nbformat": 4,
 "nbformat_minor": 4
}

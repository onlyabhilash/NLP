{
 "cells": [
  {
   "cell_type": "markdown",
   "id": "dramatic-danish",
   "metadata": {},
   "source": [
    "### Count Vectorizer\n",
    "    CountVectorizer(\n",
    "        input='content',\n",
    "        encoding='utf-8',\n",
    "        decode_error='strict',\n",
    "        strip_accents=None,\n",
    "        lowercase=True,\n",
    "        preprocessor=None,\n",
    "        tokenizer=None,\n",
    "        stop_words=None,\n",
    "        token_pattern='(?u)\\\\b\\\\w\\\\w+\\\\b',\n",
    "        ngram_range=(1, 1),\n",
    "        analyzer='word',\n",
    "        max_df=1.0,\n",
    "        min_df=1,\n",
    "        max_features=None,\n",
    "        vocabulary=None,\n",
    "        binary=False,\n",
    "        dtype=<class 'numpy.int64'>,\n",
    "    )"
   ]
  },
  {
   "cell_type": "code",
   "execution_count": 70,
   "id": "unexpected-edwards",
   "metadata": {},
   "outputs": [],
   "source": [
    "# import Count Vectorizer  and pandas \n",
    "import pandas as pd\n",
    "from sklearn.feature_extraction.text import CountVectorizer\n",
    "# initialize CountVectorizer\n",
    "vectorizer = CountVectorizer()"
   ]
  },
  {
   "cell_type": "code",
   "execution_count": 71,
   "id": "faced-trading",
   "metadata": {},
   "outputs": [
    {
     "data": {
      "text/html": [
       "<div>\n",
       "<style scoped>\n",
       "    .dataframe tbody tr th:only-of-type {\n",
       "        vertical-align: middle;\n",
       "    }\n",
       "\n",
       "    .dataframe tbody tr th {\n",
       "        vertical-align: top;\n",
       "    }\n",
       "\n",
       "    .dataframe thead th {\n",
       "        text-align: right;\n",
       "    }\n",
       "</style>\n",
       "<table border=\"1\" class=\"dataframe\">\n",
       "  <thead>\n",
       "    <tr style=\"text-align: right;\">\n",
       "      <th></th>\n",
       "      <th>brown</th>\n",
       "      <th>dog</th>\n",
       "      <th>fox</th>\n",
       "      <th>jumps</th>\n",
       "      <th>lazy</th>\n",
       "      <th>over</th>\n",
       "      <th>quick</th>\n",
       "      <th>the</th>\n",
       "    </tr>\n",
       "  </thead>\n",
       "  <tbody>\n",
       "    <tr>\n",
       "      <th>Doc1</th>\n",
       "      <td>1</td>\n",
       "      <td>0</td>\n",
       "      <td>1</td>\n",
       "      <td>0</td>\n",
       "      <td>0</td>\n",
       "      <td>0</td>\n",
       "      <td>1</td>\n",
       "      <td>1</td>\n",
       "    </tr>\n",
       "    <tr>\n",
       "      <th>Doc1</th>\n",
       "      <td>0</td>\n",
       "      <td>1</td>\n",
       "      <td>0</td>\n",
       "      <td>1</td>\n",
       "      <td>1</td>\n",
       "      <td>1</td>\n",
       "      <td>0</td>\n",
       "      <td>1</td>\n",
       "    </tr>\n",
       "  </tbody>\n",
       "</table>\n",
       "</div>"
      ],
      "text/plain": [
       "      brown  dog  fox  jumps  lazy  over  quick  the\n",
       "Doc1      1    0    1      0     0     0      1    1\n",
       "Doc1      0    1    0      1     1     1      0    1"
      ]
     },
     "execution_count": 71,
     "metadata": {},
     "output_type": "execute_result"
    }
   ],
   "source": [
    "# Count Vectorizer# CountVectorizer\n",
    "import pandas as pd\n",
    "from sklearn.feature_extraction.text import CountVectorizer\n",
    "# set of documents\n",
    "corpora = ['the quick brown fox.','Jumps over the lazy dog!']\n",
    "# instantiate the vectorizer object\n",
    "vectorizer = CountVectorizer()\n",
    "# convert th documents into a matrix\n",
    "wm = vectorizer.fit_transform(corpora)\n",
    "#retrieve the terms found in the corpora\n",
    "tokens = vectorizer.get_feature_names()\n",
    "\n",
    "df_vect = pd.DataFrame(data = wm.toarray(),index = ['Doc1','Doc1'],columns = tokens)\n",
    "df_vect"
   ]
  },
  {
   "cell_type": "code",
   "execution_count": 72,
   "id": "flying-chinese",
   "metadata": {},
   "outputs": [
    {
     "data": {
      "text/html": [
       "<div>\n",
       "<style scoped>\n",
       "    .dataframe tbody tr th:only-of-type {\n",
       "        vertical-align: middle;\n",
       "    }\n",
       "\n",
       "    .dataframe tbody tr th {\n",
       "        vertical-align: top;\n",
       "    }\n",
       "\n",
       "    .dataframe thead th {\n",
       "        text-align: right;\n",
       "    }\n",
       "</style>\n",
       "<table border=\"1\" class=\"dataframe\">\n",
       "  <thead>\n",
       "    <tr style=\"text-align: right;\">\n",
       "      <th></th>\n",
       "      <th>brown</th>\n",
       "      <th>dog</th>\n",
       "      <th>fox</th>\n",
       "      <th>jumps</th>\n",
       "      <th>lazy</th>\n",
       "      <th>over</th>\n",
       "      <th>quick</th>\n",
       "      <th>the</th>\n",
       "      <th>x00021</th>\n",
       "      <th>x0002e</th>\n",
       "    </tr>\n",
       "  </thead>\n",
       "  <tbody>\n",
       "    <tr>\n",
       "      <th>Doc1</th>\n",
       "      <td>1</td>\n",
       "      <td>0</td>\n",
       "      <td>1</td>\n",
       "      <td>0</td>\n",
       "      <td>0</td>\n",
       "      <td>0</td>\n",
       "      <td>1</td>\n",
       "      <td>1</td>\n",
       "      <td>0</td>\n",
       "      <td>1</td>\n",
       "    </tr>\n",
       "    <tr>\n",
       "      <th>Doc1</th>\n",
       "      <td>0</td>\n",
       "      <td>1</td>\n",
       "      <td>0</td>\n",
       "      <td>1</td>\n",
       "      <td>1</td>\n",
       "      <td>1</td>\n",
       "      <td>0</td>\n",
       "      <td>1</td>\n",
       "      <td>1</td>\n",
       "      <td>0</td>\n",
       "    </tr>\n",
       "  </tbody>\n",
       "</table>\n",
       "</div>"
      ],
      "text/plain": [
       "      brown  dog  fox  jumps  lazy  over  quick  the  x00021  x0002e\n",
       "Doc1      1    0    1      0     0     0      1    1       0       1\n",
       "Doc1      0    1    0      1     1     1      0    1       1       0"
      ]
     },
     "execution_count": 72,
     "metadata": {},
     "output_type": "execute_result"
    }
   ],
   "source": [
    "## example list with html entities\n",
    "doc = ['the quick brown fox&#x0002E;',\n",
    "       'Jumps over the lazy dog&#x00021;']\n",
    "# instantiate the vectorizer object\n",
    "vectorizer = CountVectorizer()\n",
    "wm = vectorizer.fit_transform(doc)\n",
    "tokens = vectorizer.get_feature_names()\n",
    "df_vect = pd.DataFrame(data = wm.toarray(),index = ['Doc1','Doc1'],columns = tokens)\n",
    "df_vect "
   ]
  },
  {
   "cell_type": "markdown",
   "id": "exterior-church",
   "metadata": {},
   "source": [
    "#### Parameters\n",
    "\n",
    "    preprocessor\n",
    "    tokenizer\n",
    "    stop_words\n",
    "    ngram_range\n",
    "    max_df\n",
    "    min_df"
   ]
  },
  {
   "cell_type": "code",
   "execution_count": null,
   "id": "physical-dialogue",
   "metadata": {},
   "outputs": [],
   "source": [
    "import spacy\n",
    "from html import unescape\n",
    "# create spacy tokenizer\n",
    "nlp=spacy.load('en_core_web_sm')\n",
    "\n",
    "lemmatizer = spacy.lang.en.English()\n",
    "doc = nlp(['the quick brown fox&#x0002E;',\n",
    "       'Jumps over the lazy dog&#x00021;'])\n",
    "# remove html entities\n",
    "def my_preprocessor(doc):\n",
    "    return(unescape(doc).lower())\n",
    "def my_tokenizer(doc):\n",
    "    tokens = lemmatizer(doc)\n",
    "    return([token.lemma_   for token in tokens])\n",
    "custom_vec = CountVectorizer(preprocessor=my_preprocessor,tokenizer=my_tokenizer)\n",
    "cwm = custom_vec.fit_transform(doc)\n",
    "tokens = custom_vec.get_feature_names()\n",
    "df_vect = pd.DataFrame(data = cwm.toarray(),index = ['Doc1','Doc1'],columns = tokens)\n",
    "df_vect"
   ]
  },
  {
   "cell_type": "code",
   "execution_count": 74,
   "id": "sonic-rebel",
   "metadata": {},
   "outputs": [
    {
     "name": "stderr",
     "output_type": "stream",
     "text": [
      "C:\\Users\\abhil\\anaconda3\\envs\\KerasPython37\\lib\\site-packages\\sklearn\\feature_extraction\\text.py:391: UserWarning: Your stop_words may be inconsistent with your preprocessing. Tokenizing the stop words generated tokens [''] not in stop_words.\n",
      "  'stop_words.' % sorted(inconsistent))\n"
     ]
    },
    {
     "data": {
      "text/html": [
       "<div>\n",
       "<style scoped>\n",
       "    .dataframe tbody tr th:only-of-type {\n",
       "        vertical-align: middle;\n",
       "    }\n",
       "\n",
       "    .dataframe tbody tr th {\n",
       "        vertical-align: top;\n",
       "    }\n",
       "\n",
       "    .dataframe thead th {\n",
       "        text-align: right;\n",
       "    }\n",
       "</style>\n",
       "<table border=\"1\" class=\"dataframe\">\n",
       "  <thead>\n",
       "    <tr style=\"text-align: right;\">\n",
       "      <th></th>\n",
       "      <th></th>\n",
       "      <th></th>\n",
       "    </tr>\n",
       "  </thead>\n",
       "  <tbody>\n",
       "    <tr>\n",
       "      <th>Doc1</th>\n",
       "      <td>5</td>\n",
       "      <td>4</td>\n",
       "    </tr>\n",
       "    <tr>\n",
       "      <th>Doc1</th>\n",
       "      <td>6</td>\n",
       "      <td>5</td>\n",
       "    </tr>\n",
       "  </tbody>\n",
       "</table>\n",
       "</div>"
      ],
      "text/plain": [
       "          \n",
       "Doc1  5  4\n",
       "Doc1  6  5"
      ]
     },
     "execution_count": 74,
     "metadata": {},
     "output_type": "execute_result"
    }
   ],
   "source": [
    "doc = ['the quick brown fox&#x0002E;',\n",
    "       'Jumps over the lazy dog&#x00021;']\n",
    "custom_vec = CountVectorizer(\n",
    "                              preprocessor=my_preprocessor,\n",
    "                              tokenizer=my_tokenizer,\n",
    "                              ngram_range=(1,2),\n",
    "                              stop_words=\"english\")\n",
    "cwm = custom_vec.fit_transform(doc)\n",
    "tokens = custom_vec.get_feature_names()\n",
    "df_vect = pd.DataFrame(data = cwm.toarray(),index = ['Doc1','Doc1'],columns = tokens)\n",
    "df_vect"
   ]
  },
  {
   "cell_type": "code",
   "execution_count": null,
   "id": "expanded-dylan",
   "metadata": {},
   "outputs": [],
   "source": []
  }
 ],
 "metadata": {
  "kernelspec": {
   "display_name": "Python 3",
   "language": "python",
   "name": "python3"
  },
  "language_info": {
   "codemirror_mode": {
    "name": "ipython",
    "version": 3
   },
   "file_extension": ".py",
   "mimetype": "text/x-python",
   "name": "python",
   "nbconvert_exporter": "python",
   "pygments_lexer": "ipython3",
   "version": "3.7.9"
  }
 },
 "nbformat": 4,
 "nbformat_minor": 5
}

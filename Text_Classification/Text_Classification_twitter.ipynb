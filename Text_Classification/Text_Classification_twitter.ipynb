{
 "cells": [
  {
   "cell_type": "code",
   "execution_count": 163,
   "id": "inside-plane",
   "metadata": {},
   "outputs": [],
   "source": [
    "import pandas as pd\n",
    "import numpy as np\n",
    "\n",
    "#for text pre-processing\n",
    "import re, string\n",
    "import nltk\n",
    "from nltk.corpus import stopwords\n",
    "from nltk.stem import WordNetLemmatizer\n",
    "from nltk.tokenize import word_tokenize\n",
    "from nltk.corpus import wordnet\n",
    "\n",
    "import seaborn as sns\n",
    "import matplotlib.pyplot as plt\n",
    "\n",
    "#for model-building\n",
    "from sklearn.model_selection import train_test_split\n",
    "from sklearn.linear_model import LogisticRegression\n",
    "from sklearn.naive_bayes import MultinomialNB\n",
    "from sklearn.metrics import classification_report, f1_score, accuracy_score, confusion_matrix\n",
    "from sklearn.metrics import roc_curve, auc, roc_auc_score\n",
    "\n",
    "# bag of words\n",
    "from sklearn.feature_extraction.text import TfidfVectorizer\n",
    "from sklearn.feature_extraction.text import CountVectorizer\n",
    "\n",
    "#for word embedding\n",
    "import gensim\n",
    "from gensim.models import Word2Vec"
   ]
  },
  {
   "cell_type": "code",
   "execution_count": 164,
   "id": "opposed-bolivia",
   "metadata": {},
   "outputs": [],
   "source": [
    "df_train = pd.read_csv('nlp-getting-started/train.csv')\n",
    "df_test = pd.read_csv('nlp-getting-started/test.csv')"
   ]
  },
  {
   "cell_type": "code",
   "execution_count": 165,
   "id": "center-preparation",
   "metadata": {},
   "outputs": [
    {
     "data": {
      "text/html": [
       "<div>\n",
       "<style scoped>\n",
       "    .dataframe tbody tr th:only-of-type {\n",
       "        vertical-align: middle;\n",
       "    }\n",
       "\n",
       "    .dataframe tbody tr th {\n",
       "        vertical-align: top;\n",
       "    }\n",
       "\n",
       "    .dataframe thead th {\n",
       "        text-align: right;\n",
       "    }\n",
       "</style>\n",
       "<table border=\"1\" class=\"dataframe\">\n",
       "  <thead>\n",
       "    <tr style=\"text-align: right;\">\n",
       "      <th></th>\n",
       "      <th>id</th>\n",
       "      <th>keyword</th>\n",
       "      <th>location</th>\n",
       "      <th>text</th>\n",
       "      <th>target</th>\n",
       "    </tr>\n",
       "  </thead>\n",
       "  <tbody>\n",
       "    <tr>\n",
       "      <th>0</th>\n",
       "      <td>1</td>\n",
       "      <td>NaN</td>\n",
       "      <td>NaN</td>\n",
       "      <td>Our Deeds are the Reason of this #earthquake M...</td>\n",
       "      <td>1</td>\n",
       "    </tr>\n",
       "    <tr>\n",
       "      <th>1</th>\n",
       "      <td>4</td>\n",
       "      <td>NaN</td>\n",
       "      <td>NaN</td>\n",
       "      <td>Forest fire near La Ronge Sask. Canada</td>\n",
       "      <td>1</td>\n",
       "    </tr>\n",
       "    <tr>\n",
       "      <th>2</th>\n",
       "      <td>5</td>\n",
       "      <td>NaN</td>\n",
       "      <td>NaN</td>\n",
       "      <td>All residents asked to 'shelter in place' are ...</td>\n",
       "      <td>1</td>\n",
       "    </tr>\n",
       "    <tr>\n",
       "      <th>3</th>\n",
       "      <td>6</td>\n",
       "      <td>NaN</td>\n",
       "      <td>NaN</td>\n",
       "      <td>13,000 people receive #wildfires evacuation or...</td>\n",
       "      <td>1</td>\n",
       "    </tr>\n",
       "    <tr>\n",
       "      <th>4</th>\n",
       "      <td>7</td>\n",
       "      <td>NaN</td>\n",
       "      <td>NaN</td>\n",
       "      <td>Just got sent this photo from Ruby #Alaska as ...</td>\n",
       "      <td>1</td>\n",
       "    </tr>\n",
       "  </tbody>\n",
       "</table>\n",
       "</div>"
      ],
      "text/plain": [
       "   id keyword location                                               text  \\\n",
       "0   1     NaN      NaN  Our Deeds are the Reason of this #earthquake M...   \n",
       "1   4     NaN      NaN             Forest fire near La Ronge Sask. Canada   \n",
       "2   5     NaN      NaN  All residents asked to 'shelter in place' are ...   \n",
       "3   6     NaN      NaN  13,000 people receive #wildfires evacuation or...   \n",
       "4   7     NaN      NaN  Just got sent this photo from Ruby #Alaska as ...   \n",
       "\n",
       "   target  \n",
       "0       1  \n",
       "1       1  \n",
       "2       1  \n",
       "3       1  \n",
       "4       1  "
      ]
     },
     "execution_count": 165,
     "metadata": {},
     "output_type": "execute_result"
    }
   ],
   "source": [
    "df_train.head(5)"
   ]
  },
  {
   "cell_type": "code",
   "execution_count": 166,
   "id": "characteristic-capture",
   "metadata": {},
   "outputs": [
    {
     "name": "stdout",
     "output_type": "stream",
     "text": [
      "0    4342\n",
      "1    3271\n",
      "Name: target, dtype: int64\n"
     ]
    },
    {
     "name": "stderr",
     "output_type": "stream",
     "text": [
      "C:\\Users\\abhil\\anaconda3\\envs\\KerasPython37\\lib\\site-packages\\seaborn\\_decorators.py:43: FutureWarning: Pass the following variables as keyword args: x, y. From version 0.12, the only valid positional argument will be `data`, and passing other arguments without an explicit keyword will result in an error or misinterpretation.\n",
      "  FutureWarning\n"
     ]
    },
    {
     "data": {
      "text/plain": [
       "<matplotlib.axes._subplots.AxesSubplot at 0x1ef94b3c588>"
      ]
     },
     "execution_count": 166,
     "metadata": {},
     "output_type": "execute_result"
    },
    {
     "data": {
      "image/png": "[encoded data removed]",
      "text/plain": [
       "<Figure size 432x288 with 1 Axes>"
      ]
     },
     "metadata": {
      "needs_background": "light"
     },
     "output_type": "display_data"
    }
   ],
   "source": [
    "x = df_train['target'].value_counts()\n",
    "print(x)\n",
    "sns.barplot(x.index,x)"
   ]
  },
  {
   "cell_type": "code",
   "execution_count": 167,
   "id": "helpful-netherlands",
   "metadata": {},
   "outputs": [
    {
     "data": {
      "text/plain": [
       "id             0\n",
       "keyword       61\n",
       "location    2533\n",
       "text           0\n",
       "target         0\n",
       "dtype: int64"
      ]
     },
     "execution_count": 167,
     "metadata": {},
     "output_type": "execute_result"
    }
   ],
   "source": [
    "# Missing values\n",
    "\n",
    "df_train.isnull().sum()"
   ]
  },
  {
   "cell_type": "code",
   "execution_count": 168,
   "id": "infrared-assurance",
   "metadata": {},
   "outputs": [
    {
     "name": "stdout",
     "output_type": "stream",
     "text": [
      "15.167532864567411\n",
      "14.704744357438969\n"
     ]
    }
   ],
   "source": [
    "# Number of words in a tweet:\n",
    "\n",
    "df_train['word_count'] = df_train['text'].apply(lambda x : len(str(x).split()))\n",
    "\n",
    "# disaster tweets\n",
    "print(df_train[df_train['target'] == 1]['word_count'].mean())\n",
    "\n",
    "#Non disaster tweets\n",
    "print(df_train[df_train['target'] == 0]['word_count'].mean())"
   ]
  },
  {
   "cell_type": "code",
   "execution_count": 169,
   "id": "seeing-moscow",
   "metadata": {},
   "outputs": [
    {
     "data": {
      "image/png": "[encoded data removed]",
      "text/plain": [
       "<Figure size 720x288 with 2 Axes>"
      ]
     },
     "metadata": {
      "needs_background": "light"
     },
     "output_type": "display_data"
    }
   ],
   "source": [
    "# PLOTTING WORD-COUNT\n",
    "fig,(ax1,ax2)=plt.subplots(1,2,figsize=(10,4))\n",
    "train_words=df_train[df_train['target']==1]['word_count']\n",
    "ax1.hist(train_words,color='red')\n",
    "ax1.set_title('Disaster tweets')\n",
    "train_words=df_train[df_train['target']==0]['word_count']\n",
    "ax2.hist(train_words,color='green')\n",
    "ax2.set_title('Non-disaster tweets')\n",
    "fig.suptitle('Words per tweet')\n",
    "plt.show()"
   ]
  },
  {
   "cell_type": "code",
   "execution_count": 170,
   "id": "banned-fountain",
   "metadata": {},
   "outputs": [
    {
     "name": "stdout",
     "output_type": "stream",
     "text": [
      "108.11342097217977\n",
      "95.70681713496084\n"
     ]
    }
   ],
   "source": [
    "# char count\n",
    "df_train['char_count'] = df_train['text'].apply(lambda x : len(str(x)))\n",
    "\n",
    "# disaster tweets\n",
    "print(df_train[df_train['target'] == 1]['char_count'].mean())\n",
    "\n",
    "#Non disaster tweets\n",
    "print(df_train[df_train['target'] == 0]['char_count'].mean())"
   ]
  },
  {
   "cell_type": "markdown",
   "id": "infectious-pharmaceutical",
   "metadata": {},
   "source": [
    "### Text preprocessing "
   ]
  },
  {
   "cell_type": "code",
   "execution_count": 171,
   "id": "armed-heather",
   "metadata": {},
   "outputs": [],
   "source": [
    "# Simple text cleaning processes\n",
    "# Stop-word removal\n",
    "# Stemming\n",
    "# Lemmatization\n",
    "\n",
    "#convert to lowercase, strip and remove punctuations\n",
    "def preprocess(text):\n",
    "    text = text.lower()\n",
    "    text = text.strip()\n",
    "    text = re.compile('<.*?>').sub('',text)\n",
    "    text = re.compile('[%s]' % re.escape(string.punctuation)).sub(' ',text) # replace %s with string punctuation\n",
    "    text = re.sub('\\s+',' ',text) #Matches any whitespace char\n",
    "    text = re.sub(r'\\[[0-9]*\\]',' ',text) # Digits which are continuos are not removed ex 1234\n",
    "    text = re.sub(r'[^\\w\\s]',' ',text.lower().strip()) # \\w - matches alphanumeric chars - [a-zA-Z0-9_],\\s - matches whitespace chars\n",
    "    text = re.sub(r'\\d',' ',text) # Matches any decimal digit, this is equivalent to the set class [0-9]\n",
    "    text = re.sub(r'\\s+',' ',text) # after removing digis we need to remove space once again\n",
    "    return text\n",
    " \n",
    "# STOPWORD REMOVAL\n",
    "def stopword(string):\n",
    "    stopword = [i for i in string.split() if i not in stopwords.words('english')]\n",
    "    return ' '.join(stopword)\n",
    "\n",
    "#LEMMATIZATION\n",
    "# Initialize the lemmatizer\n",
    "wl = WordNetLemmatizer()\n",
    "\n",
    "# This is a helper function to map NTLK position tags\n",
    "def get_wordnet_pos(tag):\n",
    "    if tag.startswith('J'):\n",
    "        return wordnet.ADJ\n",
    "    elif tag.startswith('V'):\n",
    "        return wordnet.VERB\n",
    "    elif tag.startswith('N'):\n",
    "        return wordnet.NOUN\n",
    "    elif tag.startswith('R'):\n",
    "        return wordnet.ADV\n",
    "    else:\n",
    "        return wordnet.NOUN\n",
    "\n",
    "# Tokenize the sentence\n",
    "def lemmatizer(string):\n",
    "    word_pos_tags = nltk.pos_tag(word_tokenize(string)) # Get position tags\n",
    "    a=[wl.lemmatize(tag[0], get_wordnet_pos(tag[1])) for idx, tag in enumerate(word_pos_tags)] # Map the position tag and lemmatize the word/token\n",
    "    return \" \".join(a)"
   ]
  },
  {
   "cell_type": "code",
   "execution_count": 172,
   "id": "retained-typing",
   "metadata": {},
   "outputs": [
    {
     "data": {
      "text/html": [
       "<div>\n",
       "<style scoped>\n",
       "    .dataframe tbody tr th:only-of-type {\n",
       "        vertical-align: middle;\n",
       "    }\n",
       "\n",
       "    .dataframe tbody tr th {\n",
       "        vertical-align: top;\n",
       "    }\n",
       "\n",
       "    .dataframe thead th {\n",
       "        text-align: right;\n",
       "    }\n",
       "</style>\n",
       "<table border=\"1\" class=\"dataframe\">\n",
       "  <thead>\n",
       "    <tr style=\"text-align: right;\">\n",
       "      <th></th>\n",
       "      <th>id</th>\n",
       "      <th>keyword</th>\n",
       "      <th>location</th>\n",
       "      <th>text</th>\n",
       "      <th>target</th>\n",
       "      <th>word_count</th>\n",
       "      <th>char_count</th>\n",
       "      <th>clean_text</th>\n",
       "    </tr>\n",
       "  </thead>\n",
       "  <tbody>\n",
       "    <tr>\n",
       "      <th>0</th>\n",
       "      <td>1</td>\n",
       "      <td>NaN</td>\n",
       "      <td>NaN</td>\n",
       "      <td>Our Deeds are the Reason of this #earthquake M...</td>\n",
       "      <td>1</td>\n",
       "      <td>13</td>\n",
       "      <td>69</td>\n",
       "      <td>deed reason earthquake may allah forgive u</td>\n",
       "    </tr>\n",
       "    <tr>\n",
       "      <th>1</th>\n",
       "      <td>4</td>\n",
       "      <td>NaN</td>\n",
       "      <td>NaN</td>\n",
       "      <td>Forest fire near La Ronge Sask. Canada</td>\n",
       "      <td>1</td>\n",
       "      <td>7</td>\n",
       "      <td>38</td>\n",
       "      <td>forest fire near la ronge sask canada</td>\n",
       "    </tr>\n",
       "    <tr>\n",
       "      <th>2</th>\n",
       "      <td>5</td>\n",
       "      <td>NaN</td>\n",
       "      <td>NaN</td>\n",
       "      <td>All residents asked to 'shelter in place' are ...</td>\n",
       "      <td>1</td>\n",
       "      <td>22</td>\n",
       "      <td>133</td>\n",
       "      <td>resident ask shelter place notify officer evac...</td>\n",
       "    </tr>\n",
       "    <tr>\n",
       "      <th>3</th>\n",
       "      <td>6</td>\n",
       "      <td>NaN</td>\n",
       "      <td>NaN</td>\n",
       "      <td>13,000 people receive #wildfires evacuation or...</td>\n",
       "      <td>1</td>\n",
       "      <td>8</td>\n",
       "      <td>65</td>\n",
       "      <td>people receive wildfire evacuation order calif...</td>\n",
       "    </tr>\n",
       "    <tr>\n",
       "      <th>4</th>\n",
       "      <td>7</td>\n",
       "      <td>NaN</td>\n",
       "      <td>NaN</td>\n",
       "      <td>Just got sent this photo from Ruby #Alaska as ...</td>\n",
       "      <td>1</td>\n",
       "      <td>16</td>\n",
       "      <td>88</td>\n",
       "      <td>get sent photo ruby alaska smoke wildfires pou...</td>\n",
       "    </tr>\n",
       "  </tbody>\n",
       "</table>\n",
       "</div>"
      ],
      "text/plain": [
       "   id keyword location                                               text  \\\n",
       "0   1     NaN      NaN  Our Deeds are the Reason of this #earthquake M...   \n",
       "1   4     NaN      NaN             Forest fire near La Ronge Sask. Canada   \n",
       "2   5     NaN      NaN  All residents asked to 'shelter in place' are ...   \n",
       "3   6     NaN      NaN  13,000 people receive #wildfires evacuation or...   \n",
       "4   7     NaN      NaN  Just got sent this photo from Ruby #Alaska as ...   \n",
       "\n",
       "   target  word_count  char_count  \\\n",
       "0       1          13          69   \n",
       "1       1           7          38   \n",
       "2       1          22         133   \n",
       "3       1           8          65   \n",
       "4       1          16          88   \n",
       "\n",
       "                                          clean_text  \n",
       "0         deed reason earthquake may allah forgive u  \n",
       "1              forest fire near la ronge sask canada  \n",
       "2  resident ask shelter place notify officer evac...  \n",
       "3  people receive wildfire evacuation order calif...  \n",
       "4  get sent photo ruby alaska smoke wildfires pou...  "
      ]
     },
     "execution_count": 172,
     "metadata": {},
     "output_type": "execute_result"
    }
   ],
   "source": [
    "def finalPreProcess(string):\n",
    "       return lemmatizer(stopword(preprocess(string)))\n",
    "\n",
    "df_train['clean_text'] = df_train['text'].apply(lambda x : finalPreProcess(x))\n",
    "\n",
    "df_train.head(5)"
   ]
  },
  {
   "cell_type": "markdown",
   "id": "equivalent-enzyme",
   "metadata": {},
   "source": [
    "### 4.Extracting vectors from text (Vectorization)"
   ]
  },
  {
   "cell_type": "code",
   "execution_count": 173,
   "id": "permanent-garage",
   "metadata": {},
   "outputs": [
    {
     "name": "stdout",
     "output_type": "stream",
     "text": [
      "(6090,)\n",
      "6415    http co k tqsaarm suicide bomber kill saudi se...\n",
      "100     norwaymfa bahrain police previously die road a...\n",
      "2776    health newyear anniversary devastation work fi...\n",
      "2694    ignition knock detonation sensor connector con...\n",
      "4795    sw train strange loud impact bang noise train ...\n",
      "                              ...                        \n",
      "6187    connor franta damn siren hope everyone okay da...\n",
      "3352    ahrar al sham negotiation iran al zabadani wan...\n",
      "4293    hellfire ûªt even want think mention let ûªs a...\n",
      "5279    california spring oil spill estimate grows ass...\n",
      "5165    wwe k universe mode part obliterate http co om...\n",
      "Name: clean_text, Length: 6090, dtype: object\n"
     ]
    }
   ],
   "source": [
    "# The process to convert text data into numerical data/vector, is called vectorization or in the NLP world, word embedding\n",
    "\n",
    "X_train, X_test, y_train, y_test = train_test_split(df_train['clean_text'], df_train['target'], test_size = 0.2, shuffle = True)\n",
    "\n",
    "print(X_train.shape)\n",
    "print(X_train)\n",
    "#Word2Vec\n",
    "# Word2Vec runs on tokenized sentences\n",
    "\n",
    "x_train_tok = [nltk.word_tokenize(i) for i in X_train]\n",
    "X_test_tok= [nltk.word_tokenize(i) for i in X_test]"
   ]
  },
  {
   "cell_type": "code",
   "execution_count": 174,
   "id": "scientific-magic",
   "metadata": {},
   "outputs": [
    {
     "name": "stdout",
     "output_type": "stream",
     "text": [
      "  (0, 12913)\t0.36575603578444144\n",
      "  (0, 10202)\t0.337653724333346\n",
      "  (0, 4458)\t0.3047761275683909\n",
      "  (0, 12264)\t0.2766738161172954\n",
      "  (0, 9471)\t0.26023501773481783\n",
      "  (0, 13280)\t0.26853801099372887\n",
      "  (0, 12960)\t0.26335525425639017\n",
      "  (0, 12813)\t0.254633979531177\n",
      "  (0, 7862)\t0.19589458970906046\n",
      "  (0, 1544)\t0.23690799159758213\n",
      "  (0, 13961)\t0.21053117737590532\n",
      "  (0, 14779)\t0.36575603578444144\n",
      "  (0, 2532)\t0.13297464392269553\n",
      "  (0, 6497)\t0.13587868833579425\n",
      "  (1, 5489)\t0.4005482974169867\n",
      "  (1, 4564)\t0.2664423588879372\n",
      "  (1, 67)\t0.23621162501875265\n",
      "  (1, 12429)\t0.27885584101702854\n",
      "  (1, 3501)\t0.24736990855200902\n",
      "  (1, 11377)\t0.3825457709800392\n",
      "  (1, 11210)\t0.22302941257913186\n",
      "  (1, 1010)\t0.4005482974169867\n",
      "  (1, 10070)\t0.4005482974169867\n",
      "  (1, 7862)\t0.21452891190948623\n",
      "  (1, 2532)\t0.0728118773332509\n",
      "  :\t:\n",
      "  (6088, 3201)\t0.3559612461948539\n",
      "  (6088, 16939)\t0.3559612461948539\n",
      "  (6088, 775)\t0.31980685171952805\n",
      "  (6088, 5807)\t0.3286115025778181\n",
      "  (6088, 10225)\t0.3286115025778181\n",
      "  (6088, 11361)\t0.2764585336821885\n",
      "  (6088, 13637)\t0.2441701854424964\n",
      "  (6088, 10379)\t0.23678331607064892\n",
      "  (6088, 13667)\t0.2715199290595322\n",
      "  (6088, 4419)\t0.2852631845404786\n",
      "  (6088, 1957)\t0.2024003714742559\n",
      "  (6088, 15602)\t0.1777585261322237\n",
      "  (6088, 2532)\t0.06470682002762064\n",
      "  (6088, 6497)\t0.06611995770294947\n",
      "  (6089, 10447)\t0.4184201130629333\n",
      "  (6089, 12322)\t0.3862714369393025\n",
      "  (6089, 15256)\t0.3674656669591489\n",
      "  (6089, 9384)\t0.33160455117302656\n",
      "  (6089, 10794)\t0.2843625447317338\n",
      "  (6089, 10266)\t0.27006330087994274\n",
      "  (6089, 16385)\t0.39961434308277965\n",
      "  (6089, 15602)\t0.20894898924314612\n",
      "  (6089, 16808)\t0.24850142894561136\n",
      "  (6089, 2532)\t0.07606062525435478\n",
      "  (6089, 6497)\t0.0777217196352889\n"
     ]
    }
   ],
   "source": [
    "# TF-IDF\n",
    "\n",
    "tfidf_vectorizer = TfidfVectorizer(use_idf=True)\n",
    "X_train_vectors_tfidf = tfidf_vectorizer.fit_transform(X_train)\n",
    "print(X_train_vectors_tfidf)\n",
    "\n",
    "X_test_vectors_tfidf = tfidf_vectorizer.transform(X_test)"
   ]
  },
  {
   "cell_type": "code",
   "execution_count": null,
   "id": "harmful-causing",
   "metadata": {},
   "outputs": [],
   "source": [
    "#building Word2Vec model\n",
    "class MeanEmbeddingVectorizer(object):\n",
    "    def __init__(self, word2vec):\n",
    "        self.word2vec = word2vec\n",
    "        # if a text is empty we should return a vector of zeros\n",
    "        # with the same dimensionality as all the other vectors\n",
    "        self.dim = len(next(iter(word2vec.values())))\n",
    "def fit(self, X, y):\n",
    "        return self\n",
    "def transform(self, X):\n",
    "        return np.array([\n",
    "            np.mean([self.word2vec[w] for w in words if w in self.word2vec]\n",
    "                    or [np.zeros(self.dim)], axis=0)\n",
    "            for words in X\n",
    "        ])\n",
    "w2v = dict(zip(model.wv.index2word, model.wv.syn0)) \n",
    "df['clean_text_tok']=[nltk.word_tokenize(i) for i in df['clean_text']]\n",
    "model = Word2Vec(df['clean_text_tok'],min_count=1)     \n",
    "modelw = MeanEmbeddingVectorizer(w2v)\n",
    "\n",
    "# converting text to numerical data using Word2Vec\n",
    "X_train_vectors_w2v = modelw.transform(X_train_tok)\n",
    "X_val_vectors_w2v = modelw.transform(X_test_tok)"
   ]
  },
  {
   "cell_type": "markdown",
   "id": "charitable-audit",
   "metadata": {},
   "source": [
    "#### 5.Running ML algorithms"
   ]
  },
  {
   "cell_type": "code",
   "execution_count": null,
   "id": "aware-couple",
   "metadata": {},
   "outputs": [],
   "source": []
  }
 ],
 "metadata": {
  "kernelspec": {
   "display_name": "Python 3",
   "language": "python",
   "name": "python3"
  },
  "language_info": {
   "codemirror_mode": {
    "name": "ipython",
    "version": 3
   },
   "file_extension": ".py",
   "mimetype": "text/x-python",
   "name": "python",
   "nbconvert_exporter": "python",
   "pygments_lexer": "ipython3",
   "version": "3.7.9"
  }
 },
 "nbformat": 4,
 "nbformat_minor": 5
}
